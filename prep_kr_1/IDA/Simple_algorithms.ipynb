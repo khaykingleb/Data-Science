{
 "cells": [
  {
   "cell_type": "markdown",
   "metadata": {},
   "source": [
    "<br>1. Дан список. Определите, является ли он монотонно возрастающим (то есть верно ли, что каждый элемент этого списка больше предыдущего).\n",
    "\n",
    "Выведите YES, если массив монотонно возрастает и NO в противном случае.\n",
    "\n",
    "Решение оформите в виде функции IsAscending(A). В данной функции должен быть один цикл while, не содержащий вложенных условий и циклов — используйте схему линейного поиска."
   ]
  },
  {
   "cell_type": "code",
   "execution_count": 9,
   "metadata": {},
   "outputs": [
    {
     "name": "stdout",
     "output_type": "stream",
     "text": [
      "1 7 9\n",
      "YES\n"
     ]
    }
   ],
   "source": [
    "def IsAscending(A):\n",
    "    i = 1\n",
    "    j = len(A)\n",
    "    \n",
    "    while i < len(A) and A[i-1] < A[i]:\n",
    "        i += 1\n",
    "    \n",
    "    if i == j:\n",
    "        return \"YES\"\n",
    "    else:\n",
    "        return \"NO\"\n",
    "    \n",
    "A = list(map(int, input().split()))\n",
    "print(IsAscending(A))"
   ]
  },
  {
   "cell_type": "code",
   "execution_count": 6,
   "metadata": {},
   "outputs": [
    {
     "name": "stdout",
     "output_type": "stream",
     "text": [
      "2 2 2\n",
      "NO\n"
     ]
    }
   ],
   "source": [
    "def IsAscending(A):\n",
    "    if all([A[i] < A[i+1] for i in range(len(A) - 1)]):\n",
    "        return \"YES\"\n",
    "    return \"NO\"\n",
    "\n",
    "A = list(map(int, input().split()))\n",
    "print(IsAscending(A))"
   ]
  },
  {
   "cell_type": "markdown",
   "metadata": {},
   "source": [
    "<br> 2. Напишите программу, которая находит в массиве элемент, самый близкий по величине к  данному числу. В первой строке задается одно натуральное число N, не превосходящее 1000 – размер массива. Во второй строке содержатся N чисел – элементы массива (целые числа, не превосходящие по модулю 1000). В третьей строке вводится одно целое число x, не превосходящее по модулю 1000.\n",
    "\n"
   ]
  },
  {
   "cell_type": "code",
   "execution_count": 14,
   "metadata": {},
   "outputs": [
    {
     "name": "stdout",
     "output_type": "stream",
     "text": [
      "5\n",
      "5 4 3 2 1\n",
      "3\n",
      "3\n"
     ]
    }
   ],
   "source": [
    "n = int(input())\n",
    "lst = [int(i) for i in input().split()]\n",
    "x = int(input())\n",
    "\n",
    "def search(A, key):\n",
    "    i = 0\n",
    "    x_close = abs(key - A[i])\n",
    "    \n",
    "    for j in range(len(A)):\n",
    "        if abs(key - A[j]) < x_close:\n",
    "            x_close = abs(key - A[j])\n",
    "            i = j\n",
    "    \n",
    "    return A[i]\n",
    "\n",
    "print(search(lst, x))"
   ]
  },
  {
   "cell_type": "markdown",
   "metadata": {},
   "source": [
    "<br> 3. Дан список, заполненный произвольными целыми числами. Найдите в этом списке два числа, произведение которых максимально. Выведите эти числа в порядке неубывания.\n",
    "\n",
    "Список содержит не менее двух элементов. Числа подобраны так, что ответ однозначен.\n",
    "\n",
    "Решение должно иметь сложность $O(n)$, где $n$ — размер списка."
   ]
  },
  {
   "cell_type": "code",
   "execution_count": 28,
   "metadata": {},
   "outputs": [
    {
     "name": "stdout",
     "output_type": "stream",
     "text": [
      "-4 3 -5 2 5\n",
      "-5 -4\n"
     ]
    }
   ],
   "source": [
    "def max_product(A):\n",
    "    if len(A) == 2:\n",
    "        return sorted(A)\n",
    "\n",
    "    n_max1 = max(A)\n",
    "    n_min1 = min(A)\n",
    "\n",
    "    A.remove(n_max1)\n",
    "    A.remove(n_min1)\n",
    "\n",
    "    n_max2 = max(A)\n",
    "    n_min2 = min(A)\n",
    "\n",
    "    if n_max1 * n_max2 > n_min1 * n_min2:\n",
    "        return n_max2, n_max1\n",
    "    else:\n",
    "        return n_min1, n_min2\n",
    "\n",
    "\n",
    "l = [int(i) for i in input().split()]\n",
    "print(*max_product(l))\n"
   ]
  },
  {
   "cell_type": "code",
   "execution_count": 29,
   "metadata": {},
   "outputs": [
    {
     "name": "stdout",
     "output_type": "stream",
     "text": [
      "-4 3 -5 2 5\n",
      "-5 -4\n"
     ]
    }
   ],
   "source": [
    "def max_product(A):\n",
    "    if len(A) == 2:\n",
    "        return sorted(A)\n",
    "    \n",
    "    n_max_1 = max(A)\n",
    "    n_min_1 = min(A)\n",
    "    \n",
    "    A.remove(n_max_1)\n",
    "    A.remove(n_min_1)\n",
    "    \n",
    "    n_max_2 = max(A)\n",
    "    n_min_2 = min(A)\n",
    "    \n",
    "    if n_max_1 * n_max_2 > n_min_1 * n_min_2:\n",
    "        return n_max_2, n_max_1\n",
    "    return n_min_1, n_min_2\n",
    "\n",
    "lst = [int(i) for i in input().split()]\n",
    "print(*max_product(lst))"
   ]
  },
  {
   "cell_type": "markdown",
   "metadata": {},
   "source": [
    "<br> 4. Найдите наибольшее значение в списке и индекс последнего элемента, который имеет данное значение за один проход по списку, не модифицируя этот список и не используя дополнительного списка.\n",
    "\n",
    "Выведите два значения."
   ]
  },
  {
   "cell_type": "code",
   "execution_count": 30,
   "metadata": {},
   "outputs": [
    {
     "name": "stdout",
     "output_type": "stream",
     "text": [
      "3\n"
     ]
    },
    {
     "data": {
      "text/plain": [
       "Counter({1: 2, 4: 1})"
      ]
     },
     "execution_count": 30,
     "metadata": {},
     "output_type": "execute_result"
    }
   ],
   "source": [
    "from collections import Counter\n",
    "\n",
    "lst = [int(i) for i in input().split()]\n",
    "Counter([1, 1, 4])"
   ]
  },
  {
   "cell_type": "code",
   "execution_count": null,
   "metadata": {},
   "outputs": [],
   "source": []
  }
 ],
 "metadata": {
  "kernelspec": {
   "display_name": "Python 3",
   "language": "python",
   "name": "python3"
  },
  "language_info": {
   "codemirror_mode": {
    "name": "ipython",
    "version": 3
   },
   "file_extension": ".py",
   "mimetype": "text/x-python",
   "name": "python",
   "nbconvert_exporter": "python",
   "pygments_lexer": "ipython3",
   "version": "3.7.7"
  }
 },
 "nbformat": 4,
 "nbformat_minor": 4
}
