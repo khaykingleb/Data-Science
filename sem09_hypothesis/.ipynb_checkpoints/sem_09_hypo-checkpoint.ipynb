{
 "cells": [
  {
   "cell_type": "markdown",
   "metadata": {},
   "source": [
    "# Наполеон задумался о результатах контрольной 1 по ноду :)\n",
    "\n",
    "\n",
    "<img src=\"https://upload.wikimedia.org/wikipedia/commons/5/53/Napoleon_Paul_Delaroche.jpg\" height=\"500\" width=\"400\"> \n"
   ]
  },
  {
   "cell_type": "code",
   "execution_count": 1,
   "metadata": {},
   "outputs": [],
   "source": [
    "import numpy as np\n",
    "import pandas as pd\n",
    "\n",
    "from scipy import stats as sts\n",
    "\n",
    "import seaborn as sns\n",
    "import matplotlib.pyplot as plt\n",
    "\n",
    "plt.style.use('ggplot')\n",
    "%matplotlib inline\n",
    "%config InlineBackend.figure_format ='retina'"
   ]
  },
  {
   "cell_type": "markdown",
   "metadata": {},
   "source": [
    "# Задаченька 1 или Французы клюют только на французских покойников\n",
    "\n",
    "Девятый семинар по наукам о данных мы начинаем на неделе с 18 мая. В этот день корсиканец Наполеон был провозглашён императором Франции. А нам настала пора загрузить файлик с оценками по ноду, `nod_2020-05-17.csv`.\n",
    "\n"
   ]
  },
  {
   "cell_type": "code",
   "execution_count": 2,
   "metadata": {},
   "outputs": [
    {
     "data": {
      "text/html": [
       "<div>\n",
       "<style scoped>\n",
       "    .dataframe tbody tr th:only-of-type {\n",
       "        vertical-align: middle;\n",
       "    }\n",
       "\n",
       "    .dataframe tbody tr th {\n",
       "        vertical-align: top;\n",
       "    }\n",
       "\n",
       "    .dataframe thead th {\n",
       "        text-align: right;\n",
       "    }\n",
       "</style>\n",
       "<table border=\"1\" class=\"dataframe\">\n",
       "  <thead>\n",
       "    <tr style=\"text-align: right;\">\n",
       "      <th></th>\n",
       "      <th>group</th>\n",
       "      <th>fio</th>\n",
       "      <th>contest_login</th>\n",
       "      <th>hse_mail</th>\n",
       "      <th>alt_mail</th>\n",
       "      <th>a1_coursera</th>\n",
       "      <th>a2_coursera</th>\n",
       "      <th>b_coursera</th>\n",
       "      <th>coursera</th>\n",
       "      <th>d1a</th>\n",
       "      <th>...</th>\n",
       "      <th>d3b</th>\n",
       "      <th>d3c</th>\n",
       "      <th>d3</th>\n",
       "      <th>k3a</th>\n",
       "      <th>k3b</th>\n",
       "      <th>k3c</th>\n",
       "      <th>k3</th>\n",
       "      <th>nakop</th>\n",
       "      <th>total</th>\n",
       "      <th>final</th>\n",
       "    </tr>\n",
       "  </thead>\n",
       "  <tbody>\n",
       "    <tr>\n",
       "      <th>0</th>\n",
       "      <td>БЭК181</td>\n",
       "      <td>Аверьянов Николай Егорович</td>\n",
       "      <td>eds_python_2020_1</td>\n",
       "      <td>neaveryanov@edu.hse.ru</td>\n",
       "      <td>NaN</td>\n",
       "      <td>50.0</td>\n",
       "      <td>50.0</td>\n",
       "      <td>40.0</td>\n",
       "      <td>10.0</td>\n",
       "      <td>1.0</td>\n",
       "      <td>...</td>\n",
       "      <td>NaN</td>\n",
       "      <td>NaN</td>\n",
       "      <td>NaN</td>\n",
       "      <td>NaN</td>\n",
       "      <td>NaN</td>\n",
       "      <td>NaN</td>\n",
       "      <td>NaN</td>\n",
       "      <td>NaN</td>\n",
       "      <td>4.520000</td>\n",
       "      <td>5.0</td>\n",
       "    </tr>\n",
       "    <tr>\n",
       "      <th>1</th>\n",
       "      <td>БЭК181</td>\n",
       "      <td>Алиев Эльнур Гашимович</td>\n",
       "      <td>eds_python_2020_2</td>\n",
       "      <td>egaliev_1@edu.hse.ru</td>\n",
       "      <td>NaN</td>\n",
       "      <td>50.0</td>\n",
       "      <td>50.0</td>\n",
       "      <td>40.0</td>\n",
       "      <td>10.0</td>\n",
       "      <td>1.0</td>\n",
       "      <td>...</td>\n",
       "      <td>NaN</td>\n",
       "      <td>NaN</td>\n",
       "      <td>NaN</td>\n",
       "      <td>NaN</td>\n",
       "      <td>NaN</td>\n",
       "      <td>NaN</td>\n",
       "      <td>NaN</td>\n",
       "      <td>NaN</td>\n",
       "      <td>3.840000</td>\n",
       "      <td>4.0</td>\n",
       "    </tr>\n",
       "    <tr>\n",
       "      <th>2</th>\n",
       "      <td>БЭК181</td>\n",
       "      <td>Алтунина Анастасия Игоревна</td>\n",
       "      <td>eds_python_2020_3</td>\n",
       "      <td>aialtunina@edu.hse.ru</td>\n",
       "      <td>NaN</td>\n",
       "      <td>50.0</td>\n",
       "      <td>50.0</td>\n",
       "      <td>40.0</td>\n",
       "      <td>10.0</td>\n",
       "      <td>1.0</td>\n",
       "      <td>...</td>\n",
       "      <td>NaN</td>\n",
       "      <td>NaN</td>\n",
       "      <td>NaN</td>\n",
       "      <td>NaN</td>\n",
       "      <td>NaN</td>\n",
       "      <td>NaN</td>\n",
       "      <td>NaN</td>\n",
       "      <td>NaN</td>\n",
       "      <td>4.140000</td>\n",
       "      <td>4.0</td>\n",
       "    </tr>\n",
       "    <tr>\n",
       "      <th>3</th>\n",
       "      <td>БЭК181</td>\n",
       "      <td>Байкалова Дарья Александровна</td>\n",
       "      <td>eds_python_2020_4</td>\n",
       "      <td>dabaykalova@edu.hse.ru</td>\n",
       "      <td>NaN</td>\n",
       "      <td>50.0</td>\n",
       "      <td>50.0</td>\n",
       "      <td>40.0</td>\n",
       "      <td>10.0</td>\n",
       "      <td>1.0</td>\n",
       "      <td>...</td>\n",
       "      <td>NaN</td>\n",
       "      <td>NaN</td>\n",
       "      <td>NaN</td>\n",
       "      <td>NaN</td>\n",
       "      <td>NaN</td>\n",
       "      <td>NaN</td>\n",
       "      <td>NaN</td>\n",
       "      <td>NaN</td>\n",
       "      <td>3.900000</td>\n",
       "      <td>4.0</td>\n",
       "    </tr>\n",
       "    <tr>\n",
       "      <th>4</th>\n",
       "      <td>БЭК181</td>\n",
       "      <td>Васьков Алексей Васильевич</td>\n",
       "      <td>eds_python_2020_5</td>\n",
       "      <td>avvaskov@edu.hse.ru</td>\n",
       "      <td>NaN</td>\n",
       "      <td>50.0</td>\n",
       "      <td>50.0</td>\n",
       "      <td>40.0</td>\n",
       "      <td>10.0</td>\n",
       "      <td>0.0</td>\n",
       "      <td>...</td>\n",
       "      <td>NaN</td>\n",
       "      <td>NaN</td>\n",
       "      <td>NaN</td>\n",
       "      <td>NaN</td>\n",
       "      <td>NaN</td>\n",
       "      <td>NaN</td>\n",
       "      <td>NaN</td>\n",
       "      <td>NaN</td>\n",
       "      <td>3.566667</td>\n",
       "      <td>4.0</td>\n",
       "    </tr>\n",
       "  </tbody>\n",
       "</table>\n",
       "<p>5 rows × 46 columns</p>\n",
       "</div>"
      ],
      "text/plain": [
       "    group                            fio      contest_login  \\\n",
       "0  БЭК181     Аверьянов Николай Егорович  eds_python_2020_1   \n",
       "1  БЭК181         Алиев Эльнур Гашимович  eds_python_2020_2   \n",
       "2  БЭК181    Алтунина Анастасия Игоревна  eds_python_2020_3   \n",
       "3  БЭК181  Байкалова Дарья Александровна  eds_python_2020_4   \n",
       "4  БЭК181     Васьков Алексей Васильевич  eds_python_2020_5   \n",
       "\n",
       "                 hse_mail alt_mail  a1_coursera  a2_coursera  b_coursera  \\\n",
       "0  neaveryanov@edu.hse.ru      NaN         50.0         50.0        40.0   \n",
       "1    egaliev_1@edu.hse.ru      NaN         50.0         50.0        40.0   \n",
       "2   aialtunina@edu.hse.ru      NaN         50.0         50.0        40.0   \n",
       "3  dabaykalova@edu.hse.ru      NaN         50.0         50.0        40.0   \n",
       "4     avvaskov@edu.hse.ru      NaN         50.0         50.0        40.0   \n",
       "\n",
       "   coursera  d1a  ...  d3b  d3c  d3  k3a  k3b  k3c  k3  nakop     total  final  \n",
       "0      10.0  1.0  ...  NaN  NaN NaN  NaN  NaN  NaN NaN    NaN  4.520000    5.0  \n",
       "1      10.0  1.0  ...  NaN  NaN NaN  NaN  NaN  NaN NaN    NaN  3.840000    4.0  \n",
       "2      10.0  1.0  ...  NaN  NaN NaN  NaN  NaN  NaN NaN    NaN  4.140000    4.0  \n",
       "3      10.0  1.0  ...  NaN  NaN NaN  NaN  NaN  NaN NaN    NaN  3.900000    4.0  \n",
       "4      10.0  0.0  ...  NaN  NaN NaN  NaN  NaN  NaN NaN    NaN  3.566667    4.0  \n",
       "\n",
       "[5 rows x 46 columns]"
      ]
     },
     "execution_count": 2,
     "metadata": {},
     "output_type": "execute_result"
    }
   ],
   "source": [
    "nod = pd.read_csv('nod_2020-05-17.csv')\n",
    "nod.head()"
   ]
  },
  {
   "cell_type": "markdown",
   "metadata": {},
   "source": [
    "__а)__ Постройте гистограмму результатов за первую контрольную, переменная `k1` :)"
   ]
  },
  {
   "cell_type": "code",
   "execution_count": 3,
   "metadata": {},
   "outputs": [
    {
     "data": {
      "text/plain": [
       "0      10.1\n",
       "1       6.7\n",
       "2       8.2\n",
       "3       7.0\n",
       "4       7.0\n",
       "       ... \n",
       "397     NaN\n",
       "398     NaN\n",
       "399     NaN\n",
       "400     NaN\n",
       "401     NaN\n",
       "Name: k1, Length: 402, dtype: float64"
      ]
     },
     "execution_count": 3,
     "metadata": {},
     "output_type": "execute_result"
    }
   ],
   "source": [
    "nod['k1']"
   ]
  },
  {
   "cell_type": "code",
   "execution_count": 4,
   "metadata": {},
   "outputs": [],
   "source": [
    "nod.dropna(subset=['k1'], inplace=True)"
   ]
  },
  {
   "cell_type": "code",
   "execution_count": 5,
   "metadata": {},
   "outputs": [
    {
     "data": {
      "text/plain": [
       "array([10.1,  6.7,  8.2,  7. ,  7. ,  8.8,  8.2,  5.2,  4.7,  2.7,  6.6,\n",
       "        2.6,  6.8,  5.2,  6. ,  7.1,  6.4,  8.3,  5.4,  7. ,  5.9,  7.1,\n",
       "        7.3,  6.6,  3.7,  4.1,  6.7,  9.6,  6.2,  3.3,  6. ,  5.6,  4.3,\n",
       "        3.8,  4.2,  5.1, 13. ,  4. , 11.6,  0. ,  0. ,  4. ,  4.4,  4.8,\n",
       "        3.8,  5.2,  0. ,  5.6,  5. ,  4.4,  1. ,  6. , 13. ,  5.6,  9.8,\n",
       "        8.5,  2. ,  2.8,  0. ,  0. ,  0. ,  5. ,  7. ,  2.5,  4.4, 10. ,\n",
       "        4.1, 10.6,  4.5,  4.6,  4.5,  4.3,  4. ,  7.8, 10.2,  6. ,  5.5,\n",
       "        4. ,  0. ,  2.1,  0. ,  7.4,  7. ,  5.3,  1. ,  6.8,  4. ,  0. ,\n",
       "        9.6,  2.7,  7. ,  4.6,  4. ,  0. ,  6.5, 12. ,  5.6,  9. ,  0.2,\n",
       "        7. ,  2.9,  8.5, 10. ,  6. ,  0.3,  9.5,  0.4,  3. ,  4.9,  6.8,\n",
       "        2. ,  0. ,  5.2,  0. ,  5. ,  5.8, 11. ,  4.9,  0. ,  1.7,  7.6,\n",
       "        9.2,  8.6,  4. ,  4.4,  9.8,  0. ,  8.1,  4. ,  1. ,  6.8,  8.4,\n",
       "        1.8,  3.4,  9. ,  5.2, 12.5,  0. ,  9.9,  7. ,  4.9, 11. ,  6.6,\n",
       "        7.2,  0. ,  4.8,  7.3,  2.3,  3. ,  3.3,  4.7,  3. ,  3. ,  6.9,\n",
       "        2.9,  3.9,  7.2,  2.2, 10. ,  0. ,  9. ,  4.4,  4.2,  9. , 11.4,\n",
       "        5.1,  0. , 11. ,  0. ,  6.1,  4.8,  4.3,  4.8,  0. ,  0. ,  4.7,\n",
       "        0.9,  5.2,  4.5,  3.3, 11.1, 10.2,  5.2,  0. ,  6. , 10. ,  8.7,\n",
       "        6.8,  9. ,  1. ,  8.4,  4.4, 12. ,  9.5,  9.6,  0. ,  4.8,  4.1,\n",
       "        4.5,  7.2,  5.2, 12. ,  4.1,  3. ,  4.2,  3. ,  7. ,  9.8,  7.3,\n",
       "        5.2,  8.7,  8.8,  6.2, 10.7,  9.8,  9.4,  2. ,  0. ,  1.8,  9.5,\n",
       "        4. , 10. ,  0. ,  7.2,  6.6,  5.4,  1.7,  8. ,  9.7,  6.9,  3.5,\n",
       "        1. ,  6.1,  4.4,  9. ,  0. ,  3. ,  9.8,  4.8, 12. ,  6. ,  5.4,\n",
       "        1.4,  7. ,  3.2,  4.2,  4.4,  4.9,  2.2,  6. ,  6.4,  8.9,  4.6,\n",
       "        7. ,  0. ,  5.7,  8.4,  5.6,  5.3,  6.8, 11.2,  6.2,  1. ,  5.9,\n",
       "        2.2,  4.4,  5.2,  2.2,  2.6,  7.2,  0. ,  4.6,  6.3,  4.4, 10. ,\n",
       "        2.2,  5.3,  0. ,  0. ,  8.2,  0. ,  5.9,  8.9,  5.6,  0. , 10.6,\n",
       "        8.2,  6.8,  8.7,  3.8,  4.3,  8.8,  5. , 10.9,  3.7,  0. ,  7. ,\n",
       "        1.6, 10.2,  4.4,  4.6, 12. ,  0.1,  6. ,  6.2, 10.6,  7.8,  3.4,\n",
       "        6.2,  2. ,  7. ,  6.4, 12. ,  5.2,  7.4,  8.6,  3.4,  7. ,  4.7,\n",
       "        4.9,  6.2,  7. ,  2. ,  7. ,  8.2,  6.6,  4.1,  9.6,  6. , 12. ,\n",
       "        8. ,  6. ,  6.3,  5.2,  6.8,  7.7,  5.7,  3.7,  3.6,  2.6,  7.6,\n",
       "        5.6,  3.9,  6.2,  6.3,  6.1,  3.9,  5.1,  7.6,  9.2,  4.2,  2.3,\n",
       "        5.4,  7.8,  6.1,  0. ,  5.5,  9.4,  4.4,  3. ,  5.2, 10.6,  7.4,\n",
       "        0.7,  2.4,  4.7, 10. ,  9. ,  5. ,  2. ,  5.2,  0. ,  1.4,  0. ,\n",
       "        8.2,  4.5,  9.5,  3. ,  0.8,  8.6,  7.2,  7.9,  6. ,  3.7, 10.8,\n",
       "        1. ,  0.4,  6.2,  0. ,  6.9])"
      ]
     },
     "execution_count": 5,
     "metadata": {},
     "output_type": "execute_result"
    }
   ],
   "source": [
    "x = nod['k1'].values\n",
    "x"
   ]
  },
  {
   "cell_type": "code",
   "execution_count": 6,
   "metadata": {},
   "outputs": [
    {
     "data": {
      "image/png": "[encoded data removed]",
      "text/plain": [
       "<Figure size 720x432 with 1 Axes>"
      ]
     },
     "metadata": {
      "image/png": {
       "height": 357,
       "width": 592
      },
      "needs_background": "light"
     },
     "output_type": "display_data"
    }
   ],
   "source": [
    "plt.figure(figsize=(10, 6))\n",
    "plt.hist(x, bins=20);"
   ]
  },
  {
   "cell_type": "code",
   "execution_count": 7,
   "metadata": {},
   "outputs": [],
   "source": [
    "norm = sts.norm() # создали генератор стандратного нормального распределения"
   ]
  },
  {
   "cell_type": "code",
   "execution_count": 8,
   "metadata": {},
   "outputs": [
    {
     "data": {
      "text/plain": [
       "array([-0.18057181,  0.1504385 , -2.08699856,  0.08374866,  0.54183417,\n",
       "       -1.46521595, -0.26701912,  1.01445946, -0.21798579, -1.77142992])"
      ]
     },
     "execution_count": 8,
     "metadata": {},
     "output_type": "execute_result"
    }
   ],
   "source": [
    "norm.rvs(10) # генерируем выборку из распределения"
   ]
  },
  {
   "cell_type": "code",
   "execution_count": 9,
   "metadata": {},
   "outputs": [
    {
     "data": {
      "text/plain": [
       "0.3989422804014327"
      ]
     },
     "execution_count": 9,
     "metadata": {},
     "output_type": "execute_result"
    }
   ],
   "source": [
    "norm.pdf(x=0) # значение функции плотности распределения в точке x"
   ]
  },
  {
   "cell_type": "code",
   "execution_count": 10,
   "metadata": {},
   "outputs": [
    {
     "data": {
      "text/plain": [
       "0.5"
      ]
     },
     "execution_count": 10,
     "metadata": {},
     "output_type": "execute_result"
    }
   ],
   "source": [
    "norm.cdf(x=0) # значение функции распределения в точке x: F(x) = P(X < x)"
   ]
  },
  {
   "cell_type": "code",
   "execution_count": 11,
   "metadata": {},
   "outputs": [
    {
     "data": {
      "text/plain": [
       "0.02275013194817921"
      ]
     },
     "execution_count": 11,
     "metadata": {},
     "output_type": "execute_result"
    }
   ],
   "source": [
    "# P(X > 2) = 1 - P(X < 2)\n",
    "1 - norm.cdf(x=2) "
   ]
  },
  {
   "cell_type": "code",
   "execution_count": 12,
   "metadata": {},
   "outputs": [
    {
     "data": {
      "text/plain": [
       "1.6448536269514722"
      ]
     },
     "execution_count": 12,
     "metadata": {},
     "output_type": "execute_result"
    }
   ],
   "source": [
    "norm.ppf(0.95) # квантиль распределения уровня alpha"
   ]
  },
  {
   "cell_type": "code",
   "execution_count": 13,
   "metadata": {},
   "outputs": [
    {
     "data": {
      "text/plain": [
       "(<scipy.stats._distn_infrastructure.rv_frozen at 0x1a1dc7f1d0>,)"
      ]
     },
     "execution_count": 13,
     "metadata": {},
     "output_type": "execute_result"
    }
   ],
   "source": [
    "sts.norm(loc=5, scale=3), # N(5, 9)"
   ]
  },
  {
   "cell_type": "markdown",
   "metadata": {},
   "source": [
    " "
   ]
  },
  {
   "cell_type": "code",
   "execution_count": 14,
   "metadata": {},
   "outputs": [
    {
     "data": {
      "image/png": "[encoded data removed]",
      "text/plain": [
       "<Figure size 720x432 with 1 Axes>"
      ]
     },
     "metadata": {
      "image/png": {
       "height": 357,
       "width": 601
      },
      "needs_background": "light"
     },
     "output_type": "display_data"
    }
   ],
   "source": [
    "plt.figure(figsize=(10, 6))\n",
    "\n",
    "mu_hat = x.mean()\n",
    "std_hat = x.std(ddof=1)\n",
    "norm = sts.norm(loc=mu_hat, scale=std_hat)\n",
    "\n",
    "x_ = np.linspace(-1, 14, 120)\n",
    "y_ = norm.pdf(x_)\n",
    "plt.hist(x, bins=20, density=True)\n",
    "plt.plot(x_, y_);"
   ]
  },
  {
   "cell_type": "markdown",
   "metadata": {},
   "source": [
    " Проверим гипотезу на уровне значимости 0.05, что данное распределения является нормальным."
   ]
  },
  {
   "cell_type": "code",
   "execution_count": 15,
   "metadata": {},
   "outputs": [
    {
     "data": {
      "text/plain": [
       "KstestResult(statistic=0.8259678167697695, pvalue=2.181448352145223e-294)"
      ]
     },
     "execution_count": 15,
     "metadata": {},
     "output_type": "execute_result"
    }
   ],
   "source": [
    "# Критерий Колмогорова-Смирнова\n",
    "sts.kstest(x, 'norm') # здесь при alpha = 0.05 мы отвергам гипотезу, что наша выборка имеет стандартное нормальное распределение\n",
    "# вследствие очень маленького pvalue"
   ]
  },
  {
   "cell_type": "code",
   "execution_count": 16,
   "metadata": {},
   "outputs": [
    {
     "data": {
      "text/plain": [
       "KstestResult(statistic=0.052264904482032776, pvalue=0.22936091387357344)"
      ]
     },
     "execution_count": 16,
     "metadata": {},
     "output_type": "execute_result"
    }
   ],
   "source": [
    "sts.kstest(x, 'norm', args=(mu_hat, std_hat)) # нет оснований отвергать гипотезу, что наша выборка имеет распределение\n",
    "# N(mu_hat, std_hat**2) при уровне значимости 0.05, поскольку pvalue > alpha"
   ]
  },
  {
   "cell_type": "code",
   "execution_count": 17,
   "metadata": {},
   "outputs": [
    {
     "data": {
      "text/plain": [
       "KstestResult(statistic=0.052264904482032776, pvalue=0.22936091387357344)"
      ]
     },
     "execution_count": 17,
     "metadata": {},
     "output_type": "execute_result"
    }
   ],
   "source": [
    "sts.kstest((x - mu_hat) / std_hat, 'norm')"
   ]
  },
  {
   "cell_type": "code",
   "execution_count": 18,
   "metadata": {},
   "outputs": [
    {
     "data": {
      "text/plain": [
       "KstestResult(statistic=0.052264904482032776, pvalue=0.22936091387357344)"
      ]
     },
     "execution_count": 18,
     "metadata": {},
     "output_type": "execute_result"
    }
   ],
   "source": [
    "sts.kstest(x, sts.norm(mu_hat, std_hat).cdf)"
   ]
  },
  {
   "cell_type": "markdown",
   "metadata": {},
   "source": [
    "Предположим невероятное! А именно, независимость и одинаковую распределённость наших наблюдений!\n",
    "\n",
    "__б)__ Постройте примерный $95\\%$-й доверительный интервал для ожидамоего результата за первую контрольную.\n",
    "\n",
    "Поскольку гипотеза о том, что данное распределение является нормальным, не отвергается, мы можем себе это позволить."
   ]
  },
  {
   "cell_type": "markdown",
   "metadata": {},
   "source": [
    "1) Построим точный доверительный интервал. Поскольку истинная дисперсия неизвестна, используем распределение Стьюдента.\n",
    "\n",
    "$$\n",
    "\\left[\\bar x - t_{1 - \\frac{\\alpha}{2}} (n - 1) \\sqrt{\\frac{\\hat\\sigma^2}{n}} ;\\  \\bar x + t_{1 - \\frac{\\alpha}{2}} (n - 1)\\sqrt{\\frac{\\hat\\sigma^2}{n}} \\right]\n",
    "$$\n"
   ]
  },
  {
   "cell_type": "code",
   "execution_count": 19,
   "metadata": {},
   "outputs": [],
   "source": [
    "alpha = 0.05 # ошибка первого рода (уровень значимости)\n",
    "mu_hat = x.mean()\n",
    "var_hat = x.var(ddof=1)# несмещенная дисперсия, по дефолту в numpy она смещенная ddof=0\n",
    "n = len(x)\n",
    "t_crit = sts.t(n-1).ppf(1 - alpha / 2)\n",
    "\n",
    "left = mu_hat - t_crit * np.sqrt(var_hat / n)\n",
    "right = mu_hat + t_crit * np.sqrt(var_hat / n)"
   ]
  },
  {
   "cell_type": "markdown",
   "metadata": {},
   "source": [
    "С вероятностью в 95% наше среднее будет лежать в диапозоне:"
   ]
  },
  {
   "cell_type": "code",
   "execution_count": 20,
   "metadata": {},
   "outputs": [
    {
     "name": "stdout",
     "output_type": "stream",
     "text": [
      "Точный доверительный интервал: (5.116; 5.747)\n"
     ]
    }
   ],
   "source": [
    "print(f'Точный доверительный интервал: ({left:.4}; {right:.4})')"
   ]
  },
  {
   "cell_type": "markdown",
   "metadata": {},
   "source": [
    "2) Построим асимптотический доверительный интервал. Поскольку знаем, что $t(n) \\to \\mathcal{N}(0, 1)$ по распределению при $n  \\to \\infty$."
   ]
  },
  {
   "cell_type": "code",
   "execution_count": 21,
   "metadata": {},
   "outputs": [],
   "source": [
    "alpha = 0.05 # ошибка первого рода (уровень значимости)\n",
    "n = len(x)\n",
    "mu_hat = x.mean()\n",
    "var_hat = x.var(ddof=1) # несмещенная дисперсия, по дефолту в numpy она смещенная ddof=0\n",
    "z_crit = sts.norm().ppf(1 - alpha / 2)\n",
    "\n",
    "left = mu_hat - z_crit * np.sqrt(var_hat / n)\n",
    "right = mu_hat + z_crit * np.sqrt(var_hat / n)"
   ]
  },
  {
   "cell_type": "code",
   "execution_count": 22,
   "metadata": {},
   "outputs": [
    {
     "name": "stdout",
     "output_type": "stream",
     "text": [
      "Асимптотический доверительный интервал: (5.117; 5.746)\n"
     ]
    }
   ],
   "source": [
    "print(f'Асимптотический доверительный интервал: ({left:.4}; {right:.4})')"
   ]
  },
  {
   "cell_type": "markdown",
   "metadata": {},
   "source": [
    "либо пакетный способ построить 95% асимптотический доверительный интервал"
   ]
  },
  {
   "cell_type": "code",
   "execution_count": 23,
   "metadata": {},
   "outputs": [],
   "source": [
    "alpha = 0.05\n",
    "n = len(x)\n",
    "mu_hat = x.mean()\n",
    "var_hat = x.var(ddof=1)\n",
    "std_hat = np.sqrt(var_hat / n) \n",
    "\n",
    "left, right = sts.norm.interval(1 - alpha, loc=mu_hat, scale=std_hat)"
   ]
  },
  {
   "cell_type": "code",
   "execution_count": 24,
   "metadata": {},
   "outputs": [
    {
     "name": "stdout",
     "output_type": "stream",
     "text": [
      "Асимптотический доверительный интервал: (5.117; 5.746)\n"
     ]
    }
   ],
   "source": [
    "print(f'Асимптотический доверительный интервал: ({left:.4}; {right:.4})')"
   ]
  },
  {
   "cell_type": "markdown",
   "metadata": {},
   "source": [
    "Построим картинку."
   ]
  },
  {
   "cell_type": "code",
   "execution_count": 25,
   "metadata": {},
   "outputs": [],
   "source": [
    "alpha = 0.05\n",
    "n = len(x)\n",
    "mu_hat = x.mean()\n",
    "var_hat = x.var(ddof=1)\n",
    "std_hat = 1\n",
    "t_crit = sts.t(n-1).ppf(1 - alpha / 2)\n",
    "\n",
    "left = mu_hat - t_crit * np.sqrt(var_hat / n)\n",
    "right = mu_hat + t_crit * np.sqrt(var_hat / n)\n",
    "\n",
    "x_ = np.linspace(-4, 4, 150)\n",
    "y_ = sts.t(n - 1).pdf(x_)"
   ]
  },
  {
   "cell_type": "code",
   "execution_count": 26,
   "metadata": {},
   "outputs": [
    {
     "data": {
      "image/png": "[encoded data removed]",
      "text/plain": [
       "<Figure size 720x432 with 1 Axes>"
      ]
     },
     "metadata": {
      "image/png": {
       "height": 379,
       "width": 622
      },
      "needs_background": "light"
     },
     "output_type": "display_data"
    }
   ],
   "source": [
    "plt.figure(figsize=(10, 6))\n",
    "plt.xlabel('$x$', fontsize=16, labelpad=5)\n",
    "plt.ylabel('PDF', fontsize=16, labelpad=5)\n",
    "plt.plot(x_, y_)\n",
    "\n",
    "plt.axvline(-t_crit, color='blue', linestyle='--')\n",
    "plt.axvline(t_crit, color='blue', linestyle='--')\n",
    "xl_fill = np.linspace(-4, -t_crit)\n",
    "yl_fill = sts.t(n - 1).pdf(xl_fill)\n",
    "xr_fill = np.linspace(t_crit, 4)\n",
    "yr_fill = sts.t(n - 1).pdf(xr_fill)\n",
    "plt.fill_between(xl_fill, 0, yl_fill, color='black', alpha=0.4)\n",
    "plt.fill_between(xr_fill, 0, yr_fill, color='black', alpha=0.4)\n",
    "\n",
    "plt.text(-t_crit - 0.5, -0.07, f't_{alpha/2}({n-1}) \\n = {-t_crit:.4}')\n",
    "plt.text(t_crit - 0.5, -0.07, f't_{1 - alpha/2}({n-1}) \\n = {t_crit:.4}');"
   ]
  },
  {
   "cell_type": "code",
   "execution_count": 27,
   "metadata": {},
   "outputs": [],
   "source": [
    "alpha = 0.05\n",
    "n = len(x)\n",
    "mu_hat = x.mean()\n",
    "var_hat = x.var(ddof=1)\n",
    "std_hat = np.sqrt(var_hat / n)\n",
    "\n",
    "left, right = sts.norm.interval(1 - alpha, loc=mu_hat, scale=std_hat)\n",
    "\n",
    "margin = 1\n",
    "x_ = np.linspace(mu_hat - margin, mu_hat + margin, 150)\n",
    "y_ = sts.norm(mu_hat, std_hat).pdf(x_)"
   ]
  },
  {
   "cell_type": "code",
   "execution_count": 28,
   "metadata": {},
   "outputs": [
    {
     "data": {
      "image/png": "[encoded data removed]",
      "text/plain": [
       "<Figure size 720x432 with 1 Axes>"
      ]
     },
     "metadata": {
      "image/png": {
       "height": 377,
       "width": 598
      },
      "needs_background": "light"
     },
     "output_type": "display_data"
    }
   ],
   "source": [
    "plt.figure(figsize=(10, 6))\n",
    "plt.xlabel('$\\mu$', fontsize=16, labelpad=5)\n",
    "plt.plot(x_, y_)\n",
    "\n",
    "plt.axvline(left, color='blue', linestyle='--')\n",
    "plt.axvline(right, color='blue', linestyle='--')\n",
    "xl_fill = np.linspace(mu_hat - margin, left)\n",
    "yl_fill = sts.norm(mu_hat, std_hat).pdf(xl_fill)\n",
    "xr_fill = np.linspace(right, mu_hat + margin)\n",
    "yr_fill = sts.norm(mu_hat, std_hat).pdf(xr_fill)\n",
    "plt.fill_between(xl_fill, 0, yl_fill, color='black', alpha=0.4)\n",
    "plt.fill_between(xr_fill, 0, yr_fill, color='black', alpha=0.4);"
   ]
  },
  {
   "cell_type": "markdown",
   "metadata": {},
   "source": [
    "Разобьём наши наблюдения на две группы: Ангелы и Демоны. У Ангелов `d1fraud == 0`, у Демонов `d1fraud > 0`.\n",
    "\n",
    "__в)__ Постройте на общем фоне гистограмму распределения оценок за первую контрольную у Ангелов и Демонов. "
   ]
  },
  {
   "cell_type": "code",
   "execution_count": 29,
   "metadata": {},
   "outputs": [],
   "source": [
    "x = nod.query('d1fraud > 0')['k1']\n",
    "y = nod.query('d1fraud == 0')['k1']"
   ]
  },
  {
   "cell_type": "code",
   "execution_count": 30,
   "metadata": {},
   "outputs": [
    {
     "data": {
      "image/png": "[encoded data removed]",
      "text/plain": [
       "<Figure size 720x432 with 1 Axes>"
      ]
     },
     "metadata": {
      "image/png": {
       "height": 357,
       "width": 608
      },
      "needs_background": "light"
     },
     "output_type": "display_data"
    }
   ],
   "source": [
    "plt.figure(figsize=(10, 6))\n",
    "plt.hist(x, bins=20, alpha=0.5, density=True, label='Angels')\n",
    "plt.hist(y, bins=20, alpha=0.5, density=True, label='Demons')\n",
    "plt.legend();"
   ]
  },
  {
   "cell_type": "markdown",
   "metadata": {},
   "source": [
    "__г)__ Постройте примерный $95\\%$-й доверительный интервал для разницы ожидаемого результата за первую контрольную у Демонов и Ангелов. Без предположения о равенстве дисперсий.\n",
    "\n",
    "$$\n",
    "\\left[\\bar x - \\bar y - z_{crit} \\sqrt{\\frac{\\hat\\sigma_x^2}{n_x} + \\frac{\\hat\\sigma_y^2}{n_y}} ; \\bar x - \\bar y + z_{crit} \\sqrt{\\frac{\\hat\\sigma_x^2}{n_x} + \\frac{\\hat\\sigma_y^2}{n_y}} \\right]\n",
    "$$"
   ]
  },
  {
   "cell_type": "code",
   "execution_count": 31,
   "metadata": {},
   "outputs": [],
   "source": [
    "alpha = 0.05 \n",
    "\n",
    "diff_hat = x.mean() - y.mean() \n",
    "nx, ny = len(x), len(y)\n",
    "var_y_hat = y.var(ddof=1)\n",
    "var_x_hat = x.var(ddof=1)\n",
    "diff_std_hat = np.sqrt(var_x_hat / nx + var_y_hat /ny)\n",
    "z_crit = sts.norm().ppf(1 - alpha / 2)\n",
    "\n",
    "left = diff_hat - z_crit * diff_std_hat\n",
    "right = diff_hat + z_crit * diff_std_hat"
   ]
  },
  {
   "cell_type": "code",
   "execution_count": 32,
   "metadata": {},
   "outputs": [
    {
     "name": "stdout",
     "output_type": "stream",
     "text": [
      "Точный доверительный интервал: (-0.533; 0.809)\n"
     ]
    }
   ],
   "source": [
    "print(f'Точный доверительный интервал: ({left:.3}; {right:.3})')"
   ]
  },
  {
   "cell_type": "code",
   "execution_count": 33,
   "metadata": {},
   "outputs": [],
   "source": [
    "def norm_mean_test(mu_hat, sd_hat, mu_0 = 0, alpha=0.05, margin=3):\n",
    "    \n",
    "    z_obs = (mu_hat - mu_0)/sd_hat\n",
    "    z_crit = sts.norm( ).ppf(1 - alpha/2)\n",
    "\n",
    "    plt.figure(figsize = (10, 5))\n",
    "\n",
    "    x = np.linspace(-margin, margin, 100)\n",
    "    norm_rv = sts.norm()\n",
    "    pdf = norm_rv.pdf(x)\n",
    "\n",
    "    plt.plot(x, pdf, color=\"black\")\n",
    "    plt.ylabel(\"$f(x)$\", fontsize=18)\n",
    "    plt.xlabel(\"$x$\", fontsize=18)\n",
    "    y_max = plt.ylim()[1]\n",
    "\n",
    "    # Критические значения статистки \n",
    "    plt.axvline(-z_crit, color=\"blue\", linestyle=\"--\", lw=2)\n",
    "    plt.text(-z_crit-0.7, 0.8*y_max, f\"{-z_crit:.3}\", color=\"blue\", fontsize=16)\n",
    "    xq = np.linspace(-margin, -z_crit)\n",
    "    yq = norm_rv.pdf(xq)\n",
    "    plt.fill_between(xq, 0, yq, color=\"blue\", alpha=0.2)\n",
    "\n",
    "    plt.axvline(z_crit, color=\"blue\", linestyle=\"--\", lw=2)\n",
    "    plt.text(z_crit+0.05, 0.8*y_max, f\"{z_crit:.3}\", color=\"blue\", fontsize=16)\n",
    "    xq = np.linspace(z_crit, margin)\n",
    "    yq = norm_rv.pdf(xq)\n",
    "    plt.fill_between(xq, 0, yq, color=\"blue\", alpha=0.2)\n",
    "\n",
    "    # Наблюдаемые значения статистики\n",
    "    plt.axvline(-z_obs, color=\"red\", linestyle=\"--\", lw=2)\n",
    "    plt.text(-z_obs-0.85, 0.8*y_max, f\"{-z_obs:.3}\", color=\"red\", fontsize=16)\n",
    "    xq = np.linspace(-margin, -z_obs)\n",
    "    yq = norm_rv.pdf(xq)\n",
    "    plt.fill_between(xq, 0, yq, color=\"red\", alpha=0.2)\n",
    "\n",
    "    plt.axvline(z_obs, color=\"red\", linestyle=\"--\", lw=2)\n",
    "    plt.text(z_obs+0.2, 0.8*y_max, f\"{z_obs:.3}\", color=\"red\", fontsize=16)\n",
    "    xq = np.linspace(z_obs, margin)\n",
    "    yq = norm_rv.pdf(xq)\n",
    "    plt.fill_between(xq, 0, yq, color=\"red\", alpha=0.2)\n",
    "\n",
    "    pvalue = 2 * norm_rv.cdf(-z_obs)\n",
    "    return pvalue # красная область"
   ]
  },
  {
   "cell_type": "code",
   "execution_count": 34,
   "metadata": {},
   "outputs": [
    {
     "data": {
      "text/plain": [
       "0.6868631862796899"
      ]
     },
     "execution_count": 34,
     "metadata": {},
     "output_type": "execute_result"
    },
    {
     "data": {
      "image/png": "[encoded data removed]",
      "text/plain": [
       "<Figure size 720x360 with 1 Axes>"
      ]
     },
     "metadata": {
      "image/png": {
       "height": 323,
       "width": 623
      },
      "needs_background": "light"
     },
     "output_type": "display_data"
    }
   ],
   "source": [
    "norm_mean_test(diff_hat, diff_std_hat)"
   ]
  },
  {
   "cell_type": "markdown",
   "metadata": {},
   "source": [
    "P-value — вроятность получить для вероятностной модели распределения значений случайной величины такое же или более экстремальное значение статистики. Следовательно, если P-value меньше alpha, то гипотеза отвергается."
   ]
  },
  {
   "cell_type": "markdown",
   "metadata": {},
   "source": [
    "__д)__ Как изменятся результаты, если границу между Ангелами и Демонами провести по `d1fraud < 2.5` и `d1fraud > 2.5`?"
   ]
  },
  {
   "cell_type": "code",
   "execution_count": 35,
   "metadata": {},
   "outputs": [],
   "source": [
    "x = nod[nod.d1fraud < 2.5]['k1']\n",
    "y = nod[nod.d1fraud >= 2.5]['k1']"
   ]
  },
  {
   "cell_type": "code",
   "execution_count": 36,
   "metadata": {},
   "outputs": [],
   "source": [
    "alpha = 0.05\n",
    "diff_hat = x.mean() - y.mean() \n",
    "nx, ny = len(x), len(y)\n",
    "var_y_hat = y.var(ddof=1)\n",
    "var_x_hat = x.var(ddof=1)\n",
    "diff_std_hat = np.sqrt(var_x_hat / nx + var_y_hat /ny)\n",
    "z_crit = sts.norm().ppf(1 - alpha / 2)\n",
    "\n",
    "left = diff_hat - z_crit * diff_std_hat\n",
    "right = diff_hat + z_crit * diff_std_hat"
   ]
  },
  {
   "cell_type": "code",
   "execution_count": 37,
   "metadata": {},
   "outputs": [
    {
     "data": {
      "text/plain": [
       "0.6315581375559385"
      ]
     },
     "execution_count": 37,
     "metadata": {},
     "output_type": "execute_result"
    },
    {
     "data": {
      "image/png": "[encoded data removed]",
      "text/plain": [
       "<Figure size 720x360 with 1 Axes>"
      ]
     },
     "metadata": {
      "image/png": {
       "height": 323,
       "width": 623
      },
      "needs_background": "light"
     },
     "output_type": "display_data"
    }
   ],
   "source": [
    "norm_mean_test(diff_hat, diff_std_hat)"
   ]
  },
  {
   "cell_type": "markdown",
   "metadata": {},
   "source": [
    "Предположим, что математическое ожидание результата за контрольную зависит от уровня подготовки, а дисперсия результата — от нервов.\n",
    "\n",
    "__е)__ Проверьте гипотезу об одинаковой нервозности Ангелов и Демонов на уровне значимости $5\\%$."
   ]
  },
  {
   "cell_type": "code",
   "execution_count": 38,
   "metadata": {},
   "outputs": [],
   "source": [
    "F_obs = x.var(ddof=1) / y.var(ddof=1)\n",
    "n, m = len(x), len(y)\n",
    "\n",
    "alpha = 0.05\n",
    "F_crit_right = sts.f(n - 1, m - 1).ppf(1 - alpha / 2)\n",
    "F_crit_left = sts.f(n - 1, m - 1).ppf(alpha / 2)"
   ]
  },
  {
   "cell_type": "code",
   "execution_count": 39,
   "metadata": {},
   "outputs": [
    {
     "name": "stdout",
     "output_type": "stream",
     "text": [
      "Гипотеза не отвергается, поскольку\n",
      "F_crit_left = 0.702 < F_obs = 1.22 < F_crit_right = 1.49\n"
     ]
    }
   ],
   "source": [
    "print('Гипотеза не отвергается, поскольку')\n",
    "print(f'F_crit_left = {F_crit_left:.3} < F_obs = {F_obs:.3} < F_crit_right = {F_crit_right:.3}')"
   ]
  },
  {
   "cell_type": "markdown",
   "metadata": {},
   "source": [
    "__ё)__ Без буквы `ё` никуда, скажут нам [Пафнутий Чебышёв](https://ru.wikipedia.org/wiki/%D0%A7%D0%B5%D0%B1%D1%8B%D1%88%D1%91%D0%B2,_%D0%9F%D0%B0%D1%84%D0%BD%D1%83%D1%82%D0%B8%D0%B9_%D0%9B%D1%8C%D0%B2%D0%BE%D0%B2%D0%B8%D1%87) и [Лёв Толстой](https://arzamas.academy/special/ruslit/writers/tolstoy).  \n",
    "\n",
    "Нарисуйте симпатичную картинку для корреляционной матрицы по задачам первой контрольной для всех наблюдений, отдельно для Ангелов и Демонов. "
   ]
  },
  {
   "cell_type": "code",
   "execution_count": 40,
   "metadata": {},
   "outputs": [],
   "source": [
    "cols = ['k1a', 'k1b', 'k1c', 'k1d', 'k1e', 'k1f']"
   ]
  },
  {
   "cell_type": "code",
   "execution_count": 41,
   "metadata": {},
   "outputs": [],
   "source": [
    "x = nod[nod.d1fraud == 0][cols].fillna(0)\n",
    "y = nod[nod.d1fraud > 0][cols].fillna(0)"
   ]
  },
  {
   "cell_type": "code",
   "execution_count": 42,
   "metadata": {},
   "outputs": [],
   "source": [
    "corr_angels = x.corr()\n",
    "corr_demons = y.corr()"
   ]
  },
  {
   "cell_type": "code",
   "execution_count": 43,
   "metadata": {},
   "outputs": [
    {
     "data": {
      "image/png": "[encoded data removed]",
      "text/plain": [
       "<Figure size 1080x432 with 4 Axes>"
      ]
     },
     "metadata": {
      "image/png": {
       "height": 374,
       "width": 850
      },
      "needs_background": "light"
     },
     "output_type": "display_data"
    }
   ],
   "source": [
    "fig, axes = plt.subplots(1, 2, figsize=(15, 6))\n",
    "\n",
    "sns.heatmap(corr_angels, ax=axes[0], cmap='YlGnBu')\n",
    "sns.heatmap(corr_demons, ax=axes[1])\n",
    "\n",
    "axes[0].set_title('Корреляционная матрица для Ангелов')\n",
    "axes[1].set_title('Корреляционная матрица для Демонов');"
   ]
  },
  {
   "cell_type": "markdown",
   "metadata": {},
   "source": [
    "# Симуляционная задачулька 2 про повторное тестирование\n",
    "\n",
    "Сказка про то, что последовательное применение тестов без корректировки — это не очень хорошо :)\n",
    "\n",
    "Жизнь исследователя Винни-Пуха прекрасна. Наблюдений много, гипотеза о равенстве ожиданий верна, а наблюдения — нормальны. \n",
    "\n",
    "А именно, величины $X_1$, ..., $X_{n}$ независимы и нормальны $N(0;1)$, величины $Y_1$, ..., $Y_n$ независимы и нормальны $N(0;2)$. И пусть $n_x=100$ и $n_y=200$.\n",
    "\n"
   ]
  },
  {
   "cell_type": "markdown",
   "metadata": {},
   "source": [
    "Винни-Пух правда этого ничего не знает, потому что у него в голове опилки, и тестирует сначала гипотезу о равенстве дисперсий двух выборок на уровне значимости $5\\%$.\n",
    "\n",
    "__а)__ Проведите $10^6$ экспериментов, то есть $10^6$ раз попробуйте за Винни-Пуха проверить гипотезу. Хорошо бы $10^8$, но оттестируйте сначала свой код на $10^6$. \n",
    "\n",
    "Постройте гистограмму распределения тестовой статистики о равенстве дисперсий. В скольки процентах случаев гипотеза о равенстве дисперсий отвергнута? "
   ]
  },
  {
   "cell_type": "code",
   "execution_count": 54,
   "metadata": {},
   "outputs": [
    {
     "name": "stderr",
     "output_type": "stream",
     "text": [
      "100%|██████████| 1000000/1000000 [01:00<00:00, 16560.35it/s]\n"
     ]
    }
   ],
   "source": [
    "from tqdm import tqdm\n",
    "from math import sqrt\n",
    "\n",
    "alpha = 0.05\n",
    "nx = 100\n",
    "ny = 200\n",
    "F_rv = sts.f(nx - 1, ny - 1)\n",
    "\n",
    "F_crit_low = F_rv.ppf(alpha / 2)\n",
    "F_crit_high = F_rv.ppf(1 - alpha / 2)\n",
    "\n",
    "statistics = []\n",
    "H0_not_rejected = []\n",
    "\n",
    "for _ in tqdm(range(10**6)):\n",
    "    x = np.random.normal(0, 1, size=nx)\n",
    "    y = np.random.normal(0, sqrt(2), size=ny)\n",
    "    # Тестовая статистика\n",
    "    F_obs = x.var(ddof=1) / y.var(ddof=1)\n",
    "    statistics.append(F_obs)\n",
    "    \n",
    "    if F_crit_low < F_obs <  F_crit_high:\n",
    "        H0_not_rejected.append((x, y))  "
   ]
  },
  {
   "cell_type": "code",
   "execution_count": 55,
   "metadata": {},
   "outputs": [
    {
     "data": {
      "image/png": "[encoded data removed]",
      "text/plain": [
       "<Figure size 720x432 with 1 Axes>"
      ]
     },
     "metadata": {
      "image/png": {
       "height": 357,
       "width": 585
      },
      "needs_background": "light"
     },
     "output_type": "display_data"
    }
   ],
   "source": [
    "plt.figure(figsize=(10, 6))\n",
    "plt.hist(statistics, bins=20, density=True)\n",
    "\n",
    "x_ = np.linspace(0, 2, 100)\n",
    "y_ = F_rv.pdf(x_)\n",
    "plt.plot(x_, y_);"
   ]
  },
  {
   "cell_type": "code",
   "execution_count": 70,
   "metadata": {},
   "outputs": [
    {
     "name": "stdout",
     "output_type": "stream",
     "text": [
      "H_0 отвергнуто в 97.83% случаев\n"
     ]
    }
   ],
   "source": [
    "print(f'H_0 отвергнуто в {((10**6 - len(H0_not_rejected)) / 10**6) * 100 :.3}3% случаев')"
   ]
  },
  {
   "cell_type": "markdown",
   "metadata": {},
   "source": [
    "__б)__ Если гипотеза о равенстве дисперсий не отвергается, то Винни использует $t$-статистику для проверки гипотезы о равенстве ожиданий при равенстве дисперсий. \n",
    "\n",
    "Для тех экспериментов, в которых гипотеза о равенстве дисперсий не отверглась, проверьте гипотезу о равенстве ожиданий на уровне значимости $5\\%$. \n",
    "\n",
    "Постройте гистограмму распределения $t$-статистики. В скольки процентах случаев гипотеза о равенстве ожиданий отвергнута?"
   ]
  },
  {
   "cell_type": "code",
   "execution_count": 53,
   "metadata": {},
   "outputs": [
    {
     "data": {
      "text/plain": [
       "[True,\n",
       " True,\n",
       " True,\n",
       " True,\n",
       " True,\n",
       " True,\n",
       " False,\n",
       " True,\n",
       " True,\n",
       " True,\n",
       " True,\n",
       " True,\n",
       " True,\n",
       " True,\n",
       " True,\n",
       " True,\n",
       " True,\n",
       " True,\n",
       " True,\n",
       " True,\n",
       " True,\n",
       " True,\n",
       " True,\n",
       " True,\n",
       " True,\n",
       " True,\n",
       " True,\n",
       " True,\n",
       " True,\n",
       " True,\n",
       " True,\n",
       " True,\n",
       " True,\n",
       " True,\n",
       " False,\n",
       " True,\n",
       " True,\n",
       " True,\n",
       " True,\n",
       " True,\n",
       " True,\n",
       " True,\n",
       " True,\n",
       " False,\n",
       " True,\n",
       " True,\n",
       " True,\n",
       " True,\n",
       " True,\n",
       " True,\n",
       " True,\n",
       " True,\n",
       " True,\n",
       " True,\n",
       " True,\n",
       " True,\n",
       " True,\n",
       " True,\n",
       " True,\n",
       " True,\n",
       " True,\n",
       " True,\n",
       " True,\n",
       " True,\n",
       " True,\n",
       " True,\n",
       " True,\n",
       " True,\n",
       " True,\n",
       " True,\n",
       " True,\n",
       " True,\n",
       " True,\n",
       " True,\n",
       " True,\n",
       " True,\n",
       " True,\n",
       " True,\n",
       " True,\n",
       " True,\n",
       " True,\n",
       " True,\n",
       " True,\n",
       " True,\n",
       " True,\n",
       " True,\n",
       " True,\n",
       " True,\n",
       " True,\n",
       " True,\n",
       " True,\n",
       " True,\n",
       " True,\n",
       " True,\n",
       " True,\n",
       " True,\n",
       " True,\n",
       " True,\n",
       " True,\n",
       " True,\n",
       " True,\n",
       " True,\n",
       " True,\n",
       " True,\n",
       " True,\n",
       " True,\n",
       " True,\n",
       " True,\n",
       " True,\n",
       " True,\n",
       " True,\n",
       " True,\n",
       " True,\n",
       " True,\n",
       " True,\n",
       " True,\n",
       " True,\n",
       " True,\n",
       " True,\n",
       " True,\n",
       " True,\n",
       " True,\n",
       " True,\n",
       " True,\n",
       " True,\n",
       " True,\n",
       " True,\n",
       " True,\n",
       " True,\n",
       " True,\n",
       " True,\n",
       " True,\n",
       " True,\n",
       " True,\n",
       " False,\n",
       " True,\n",
       " True,\n",
       " True,\n",
       " True,\n",
       " True,\n",
       " True,\n",
       " True,\n",
       " True,\n",
       " True,\n",
       " True,\n",
       " True,\n",
       " True,\n",
       " True,\n",
       " True,\n",
       " True,\n",
       " True,\n",
       " True,\n",
       " True,\n",
       " False,\n",
       " True,\n",
       " True,\n",
       " True,\n",
       " True,\n",
       " True,\n",
       " True,\n",
       " True,\n",
       " True,\n",
       " True,\n",
       " True,\n",
       " True,\n",
       " True,\n",
       " True,\n",
       " True,\n",
       " False,\n",
       " True,\n",
       " True,\n",
       " True,\n",
       " True,\n",
       " True,\n",
       " True,\n",
       " True,\n",
       " True,\n",
       " True,\n",
       " True,\n",
       " True,\n",
       " True,\n",
       " True,\n",
       " True,\n",
       " True,\n",
       " True,\n",
       " True,\n",
       " True,\n",
       " True,\n",
       " True,\n",
       " True,\n",
       " True,\n",
       " True,\n",
       " True,\n",
       " True,\n",
       " False,\n",
       " True,\n",
       " True,\n",
       " True,\n",
       " True,\n",
       " True,\n",
       " True,\n",
       " True,\n",
       " True,\n",
       " True,\n",
       " True,\n",
       " True,\n",
       " True,\n",
       " True,\n",
       " True,\n",
       " True,\n",
       " True,\n",
       " True,\n",
       " True,\n",
       " True,\n",
       " True,\n",
       " True,\n",
       " True,\n",
       " True,\n",
       " True,\n",
       " True,\n",
       " True,\n",
       " True,\n",
       " True,\n",
       " True,\n",
       " True,\n",
       " False,\n",
       " True,\n",
       " True,\n",
       " True,\n",
       " True,\n",
       " True,\n",
       " True,\n",
       " True,\n",
       " True,\n",
       " True,\n",
       " True,\n",
       " True,\n",
       " True,\n",
       " True,\n",
       " False,\n",
       " True,\n",
       " True,\n",
       " True,\n",
       " True,\n",
       " True,\n",
       " True,\n",
       " True,\n",
       " True,\n",
       " True,\n",
       " True,\n",
       " True,\n",
       " True,\n",
       " True,\n",
       " True,\n",
       " True,\n",
       " True,\n",
       " True,\n",
       " True,\n",
       " True,\n",
       " True,\n",
       " True,\n",
       " True,\n",
       " True,\n",
       " True,\n",
       " True,\n",
       " True,\n",
       " True,\n",
       " True,\n",
       " True,\n",
       " False,\n",
       " True,\n",
       " True,\n",
       " True,\n",
       " True,\n",
       " True,\n",
       " True,\n",
       " True,\n",
       " True,\n",
       " True,\n",
       " True,\n",
       " True,\n",
       " True,\n",
       " True,\n",
       " True,\n",
       " True,\n",
       " True,\n",
       " True,\n",
       " True,\n",
       " True,\n",
       " True,\n",
       " True,\n",
       " True,\n",
       " True,\n",
       " True,\n",
       " True,\n",
       " True,\n",
       " True,\n",
       " True,\n",
       " True,\n",
       " True,\n",
       " True,\n",
       " True,\n",
       " True,\n",
       " True,\n",
       " False,\n",
       " True,\n",
       " True,\n",
       " True,\n",
       " True,\n",
       " True,\n",
       " True,\n",
       " True,\n",
       " True,\n",
       " False,\n",
       " True,\n",
       " True,\n",
       " True,\n",
       " True,\n",
       " True,\n",
       " True,\n",
       " True,\n",
       " True,\n",
       " True,\n",
       " True,\n",
       " True,\n",
       " True,\n",
       " True,\n",
       " True,\n",
       " True,\n",
       " True,\n",
       " True,\n",
       " True,\n",
       " True,\n",
       " True,\n",
       " True,\n",
       " True,\n",
       " True,\n",
       " True,\n",
       " True,\n",
       " True,\n",
       " True,\n",
       " True,\n",
       " True,\n",
       " True,\n",
       " True,\n",
       " True,\n",
       " True,\n",
       " True,\n",
       " True,\n",
       " True,\n",
       " True,\n",
       " True,\n",
       " True,\n",
       " True,\n",
       " True,\n",
       " True,\n",
       " False,\n",
       " True,\n",
       " True,\n",
       " True,\n",
       " True,\n",
       " True,\n",
       " True,\n",
       " True,\n",
       " True,\n",
       " True,\n",
       " True,\n",
       " True,\n",
       " True,\n",
       " True,\n",
       " True,\n",
       " True,\n",
       " True,\n",
       " True,\n",
       " True,\n",
       " True,\n",
       " True,\n",
       " True,\n",
       " True,\n",
       " True,\n",
       " True,\n",
       " True,\n",
       " True,\n",
       " True,\n",
       " True,\n",
       " False,\n",
       " True,\n",
       " True,\n",
       " True,\n",
       " True,\n",
       " True,\n",
       " True,\n",
       " True,\n",
       " True,\n",
       " False,\n",
       " True,\n",
       " True,\n",
       " False,\n",
       " True,\n",
       " True,\n",
       " True,\n",
       " True,\n",
       " True,\n",
       " True,\n",
       " True,\n",
       " True,\n",
       " False,\n",
       " True,\n",
       " True,\n",
       " True,\n",
       " True,\n",
       " True,\n",
       " True,\n",
       " True,\n",
       " False,\n",
       " True,\n",
       " True,\n",
       " False,\n",
       " True,\n",
       " True,\n",
       " True,\n",
       " True,\n",
       " True,\n",
       " True,\n",
       " True,\n",
       " True,\n",
       " True,\n",
       " True,\n",
       " True,\n",
       " True,\n",
       " True,\n",
       " True,\n",
       " True,\n",
       " True,\n",
       " True,\n",
       " True,\n",
       " True,\n",
       " True,\n",
       " True,\n",
       " True,\n",
       " True,\n",
       " True,\n",
       " True,\n",
       " True,\n",
       " True,\n",
       " True,\n",
       " True,\n",
       " True,\n",
       " True,\n",
       " True,\n",
       " True,\n",
       " True,\n",
       " True,\n",
       " True,\n",
       " True,\n",
       " True,\n",
       " True,\n",
       " True,\n",
       " True,\n",
       " True,\n",
       " True,\n",
       " True,\n",
       " True,\n",
       " True,\n",
       " True,\n",
       " True,\n",
       " True,\n",
       " True,\n",
       " True,\n",
       " True,\n",
       " True,\n",
       " False,\n",
       " False,\n",
       " True,\n",
       " True,\n",
       " True,\n",
       " True,\n",
       " True,\n",
       " True,\n",
       " True,\n",
       " True,\n",
       " True,\n",
       " True,\n",
       " True,\n",
       " True,\n",
       " True,\n",
       " True,\n",
       " True,\n",
       " True,\n",
       " True,\n",
       " True,\n",
       " True,\n",
       " True,\n",
       " True,\n",
       " True,\n",
       " True,\n",
       " True,\n",
       " True,\n",
       " True,\n",
       " True,\n",
       " True,\n",
       " True,\n",
       " True,\n",
       " True,\n",
       " True,\n",
       " True,\n",
       " True,\n",
       " True,\n",
       " True,\n",
       " True,\n",
       " True,\n",
       " True,\n",
       " True,\n",
       " True,\n",
       " True,\n",
       " True,\n",
       " True,\n",
       " True,\n",
       " True,\n",
       " True,\n",
       " True,\n",
       " True,\n",
       " True,\n",
       " True,\n",
       " True,\n",
       " True,\n",
       " True,\n",
       " True,\n",
       " True,\n",
       " True,\n",
       " True,\n",
       " True,\n",
       " True,\n",
       " True,\n",
       " True,\n",
       " True,\n",
       " True,\n",
       " True,\n",
       " True,\n",
       " True,\n",
       " True,\n",
       " True,\n",
       " True,\n",
       " True,\n",
       " True,\n",
       " True,\n",
       " True,\n",
       " True,\n",
       " True,\n",
       " True,\n",
       " True,\n",
       " True,\n",
       " True,\n",
       " True,\n",
       " True,\n",
       " True,\n",
       " True,\n",
       " True,\n",
       " True,\n",
       " True,\n",
       " True,\n",
       " True,\n",
       " True,\n",
       " True,\n",
       " True,\n",
       " True,\n",
       " True,\n",
       " True,\n",
       " True,\n",
       " True,\n",
       " True,\n",
       " True,\n",
       " False,\n",
       " True,\n",
       " True,\n",
       " True,\n",
       " True,\n",
       " True,\n",
       " True,\n",
       " True,\n",
       " False,\n",
       " True,\n",
       " True,\n",
       " True,\n",
       " True,\n",
       " True,\n",
       " True,\n",
       " True,\n",
       " True,\n",
       " True,\n",
       " True,\n",
       " True,\n",
       " True,\n",
       " True,\n",
       " True,\n",
       " True,\n",
       " True,\n",
       " True,\n",
       " True,\n",
       " True,\n",
       " True,\n",
       " True,\n",
       " True,\n",
       " True,\n",
       " True,\n",
       " True,\n",
       " True,\n",
       " True,\n",
       " True,\n",
       " True,\n",
       " True,\n",
       " True,\n",
       " True,\n",
       " True,\n",
       " True,\n",
       " True,\n",
       " True,\n",
       " True,\n",
       " True,\n",
       " True,\n",
       " True,\n",
       " True,\n",
       " True,\n",
       " False,\n",
       " True,\n",
       " True,\n",
       " True,\n",
       " True,\n",
       " True,\n",
       " True,\n",
       " True,\n",
       " True,\n",
       " True,\n",
       " True,\n",
       " True,\n",
       " True,\n",
       " True,\n",
       " True,\n",
       " True,\n",
       " True,\n",
       " True,\n",
       " True,\n",
       " True,\n",
       " True,\n",
       " True,\n",
       " True,\n",
       " True,\n",
       " True,\n",
       " True,\n",
       " True,\n",
       " True,\n",
       " True,\n",
       " True,\n",
       " True,\n",
       " True,\n",
       " True,\n",
       " True,\n",
       " True,\n",
       " True,\n",
       " True,\n",
       " True,\n",
       " True,\n",
       " True,\n",
       " True,\n",
       " True,\n",
       " True,\n",
       " True,\n",
       " True,\n",
       " True,\n",
       " True,\n",
       " True,\n",
       " True,\n",
       " True,\n",
       " True,\n",
       " True,\n",
       " True,\n",
       " True,\n",
       " True,\n",
       " True,\n",
       " True,\n",
       " True,\n",
       " True,\n",
       " False,\n",
       " True,\n",
       " True,\n",
       " True,\n",
       " True,\n",
       " True,\n",
       " True,\n",
       " False,\n",
       " True,\n",
       " True,\n",
       " True,\n",
       " True,\n",
       " True,\n",
       " True,\n",
       " True,\n",
       " True,\n",
       " True,\n",
       " True,\n",
       " True,\n",
       " True,\n",
       " True,\n",
       " True,\n",
       " True,\n",
       " True,\n",
       " True,\n",
       " True,\n",
       " True,\n",
       " True,\n",
       " True,\n",
       " True,\n",
       " True,\n",
       " True,\n",
       " True,\n",
       " True,\n",
       " True,\n",
       " True,\n",
       " True,\n",
       " True,\n",
       " True,\n",
       " True,\n",
       " True,\n",
       " True,\n",
       " True,\n",
       " True,\n",
       " True,\n",
       " True,\n",
       " True,\n",
       " True,\n",
       " True,\n",
       " True,\n",
       " True,\n",
       " True,\n",
       " True,\n",
       " True,\n",
       " True,\n",
       " True,\n",
       " True,\n",
       " True,\n",
       " True,\n",
       " True,\n",
       " True,\n",
       " True,\n",
       " True,\n",
       " True,\n",
       " True,\n",
       " True,\n",
       " True,\n",
       " True,\n",
       " True,\n",
       " True,\n",
       " True,\n",
       " True,\n",
       " True,\n",
       " True,\n",
       " True,\n",
       " True,\n",
       " True,\n",
       " True,\n",
       " True,\n",
       " True,\n",
       " True,\n",
       " True,\n",
       " True,\n",
       " True,\n",
       " True,\n",
       " True,\n",
       " True,\n",
       " True,\n",
       " True,\n",
       " True,\n",
       " True,\n",
       " True,\n",
       " True,\n",
       " True,\n",
       " True,\n",
       " True,\n",
       " True,\n",
       " True,\n",
       " True,\n",
       " True,\n",
       " True,\n",
       " True,\n",
       " True,\n",
       " True,\n",
       " True,\n",
       " True,\n",
       " True,\n",
       " False,\n",
       " False,\n",
       " True,\n",
       " True,\n",
       " True,\n",
       " True,\n",
       " True,\n",
       " True,\n",
       " True,\n",
       " True,\n",
       " True,\n",
       " True,\n",
       " True,\n",
       " False,\n",
       " True,\n",
       " True,\n",
       " True,\n",
       " True,\n",
       " True,\n",
       " True,\n",
       " True,\n",
       " True,\n",
       " True,\n",
       " True,\n",
       " True,\n",
       " True,\n",
       " True,\n",
       " True,\n",
       " True,\n",
       " True,\n",
       " True,\n",
       " True,\n",
       " True,\n",
       " True,\n",
       " True,\n",
       " True,\n",
       " False,\n",
       " True,\n",
       " True,\n",
       " True,\n",
       " True,\n",
       " True,\n",
       " True,\n",
       " True,\n",
       " True,\n",
       " True,\n",
       " True,\n",
       " True,\n",
       " True,\n",
       " True,\n",
       " True,\n",
       " True,\n",
       " True,\n",
       " True,\n",
       " False,\n",
       " True,\n",
       " True,\n",
       " True,\n",
       " True,\n",
       " True,\n",
       " True,\n",
       " True,\n",
       " True,\n",
       " False,\n",
       " True,\n",
       " True,\n",
       " True,\n",
       " True,\n",
       " True,\n",
       " True,\n",
       " True,\n",
       " True,\n",
       " True,\n",
       " True,\n",
       " True,\n",
       " True,\n",
       " True,\n",
       " True,\n",
       " True,\n",
       " True,\n",
       " True,\n",
       " True,\n",
       " True,\n",
       " True,\n",
       " True,\n",
       " True,\n",
       " True,\n",
       " True,\n",
       " True,\n",
       " True,\n",
       " True,\n",
       " True,\n",
       " True,\n",
       " True,\n",
       " True,\n",
       " True,\n",
       " True,\n",
       " True,\n",
       " True,\n",
       " True,\n",
       " True,\n",
       " True,\n",
       " True,\n",
       " True,\n",
       " True,\n",
       " True,\n",
       " True,\n",
       " True,\n",
       " True,\n",
       " True,\n",
       " True,\n",
       " True,\n",
       " True,\n",
       " True,\n",
       " True,\n",
       " True,\n",
       " True,\n",
       " True,\n",
       " True,\n",
       " True,\n",
       " True,\n",
       " True,\n",
       " False,\n",
       " True,\n",
       " True,\n",
       " True,\n",
       " True,\n",
       " True,\n",
       " True,\n",
       " True,\n",
       " True,\n",
       " True,\n",
       " True,\n",
       " True,\n",
       " True,\n",
       " True,\n",
       " True,\n",
       " True,\n",
       " True,\n",
       " True,\n",
       " True,\n",
       " True,\n",
       " True,\n",
       " True,\n",
       " True,\n",
       " True,\n",
       " True,\n",
       " True,\n",
       " True,\n",
       " True,\n",
       " True,\n",
       " True,\n",
       " True,\n",
       " True,\n",
       " True,\n",
       " True,\n",
       " True,\n",
       " True,\n",
       " False,\n",
       " True,\n",
       " True,\n",
       " True,\n",
       " True,\n",
       " True,\n",
       " True,\n",
       " True,\n",
       " True,\n",
       " True,\n",
       " True,\n",
       " True,\n",
       " True,\n",
       " True,\n",
       " True,\n",
       " True,\n",
       " True,\n",
       " True,\n",
       " True,\n",
       " True,\n",
       " True,\n",
       " True,\n",
       " True,\n",
       " True,\n",
       " True,\n",
       " True,\n",
       " True,\n",
       " True,\n",
       " True,\n",
       " True,\n",
       " True,\n",
       " True,\n",
       " True,\n",
       " True,\n",
       " True,\n",
       " True,\n",
       " True,\n",
       " True,\n",
       " True,\n",
       " True,\n",
       " True,\n",
       " True,\n",
       " True,\n",
       " True,\n",
       " True,\n",
       " True,\n",
       " True,\n",
       " True,\n",
       " True,\n",
       " True,\n",
       " True,\n",
       " True,\n",
       " True,\n",
       " ...]"
      ]
     },
     "execution_count": 53,
     "metadata": {},
     "output_type": "execute_result"
    }
   ],
   "source": [
    "alpha = 0.05\n",
    "t_rv = sts.t(nx + ny - 2)\n",
    "t_crit = t_rv.ppf(1 - alpha/2)"
   ]
  },
  {
   "cell_type": "markdown",
   "metadata": {},
   "source": [
    "__в)__ Словами объясните, почему нехорошо сначала тестировать на равенство дисперсий, а потом на равенство средних при равных дисперсиях, если на первом шаге гипотеза $H_0$ не отверглась. "
   ]
  },
  {
   "cell_type": "raw",
   "metadata": {},
   "source": [
    " # решение"
   ]
  },
  {
   "cell_type": "markdown",
   "metadata": {},
   "source": [
    "# Задачулька 3 о мимимишных мышках\n",
    "\n",
    "[https://nplus1.ru/news/2018/05/11/mice-trolley](https://nplus1.ru/news/2018/05/11/mice-trolley) \n",
    "\n",
    "Для изучения аспектов процесса принятия моральных решений психологи уже много лет используют этические дилеммы, с помощью которых оценивают действия людей в гипотетических ситуациях. Один из самых известных примеров — это [проблема вагонетки,](https://ru.wikipedia.org/wiki/Проблема_вагонетки) в которой необходимо принять решение о том, стоит ли пожертвовать одним человеком для спасения пятерых.\n",
    "\n",
    "Бельгийские психологи воплотили дилемму в реальную жизнь. Участники эксперимента должны были выбрать, ударить током пять мышей или одну мышь. Эксперимент проходил следующим образом. Участника сажали перед двумя клетками, в одной из которых сидели пять мышей, а в другой — одна. Перед клетками стоял ноутбук с $20$-секундным таймером: участникам сообщили, что по истечении этих $20$ секунд в клетку с пятью мышами пустят ток, и мыши получат не смертельный, но очень болезненный удар. Пока время идет, участник может нажать на кнопку: в этом случае ток пустят по клетке с одной мышью. В исследовании использовали живых мышей; следует, однако, уточнить, что удары тока были ненастоящими: сразу же после «удара» участников сопроводили в отдельную комнату, где разъяснили им, что мыши в полном порядке и током их не били (об этом заранее догадались только $12$ участников). В решении реальной проблемы вагонетки приняли участие $192$ человека, а еще $83$ решали такую же задачку, но гипотетическую (на бумаге). Все участники также прошли онлайн-опросы, в ходе которых учёные собрали о респондентах кучу дополнительной информации. \n",
    "\n",
    "В файле `mouse.csv` лежит информация о том, как прошёл эксперимент. Нас будут интересовать столбцы: \n",
    "\n",
    "* __STUDY:__ какую проблему вагонетки решал человек $1$ если реальную, $2$ если на бумаге\n",
    "* __AGE:__ возраст респондента \n",
    "* __GENDER:__ пол респондента\n",
    "* __DECISION:__ решение дилеммы ($1$ - жать на кнопу, $0$ - не жать) \n",
    "* __RT:__ время, которое респондент потратил, чтобы нажать на кнопку \n",
    "\n",
    "Подробное описание данных, сами данные и даже код на R, использованный при оценивании моделей, можно найти в [репозитории исследования.](https://osf.io/kvb99/) В статье авторы строили кучу логистических регрессий, чтобы очистить эффект от психологических особенностей респондентов. Этому добру вас будут учить на эконометрике, мы пойдём простым и не совсем правильным путём и будем проверять гипотезы в лоб. "
   ]
  },
  {
   "cell_type": "code",
   "execution_count": 12,
   "metadata": {},
   "outputs": [
    {
     "data": {
      "text/html": [
       "<div>\n",
       "<style scoped>\n",
       "    .dataframe tbody tr th:only-of-type {\n",
       "        vertical-align: middle;\n",
       "    }\n",
       "\n",
       "    .dataframe tbody tr th {\n",
       "        vertical-align: top;\n",
       "    }\n",
       "\n",
       "    .dataframe thead th {\n",
       "        text-align: right;\n",
       "    }\n",
       "</style>\n",
       "<table border=\"1\" class=\"dataframe\">\n",
       "  <thead>\n",
       "    <tr style=\"text-align: right;\">\n",
       "      <th></th>\n",
       "      <th>STUDY</th>\n",
       "      <th>AGE</th>\n",
       "      <th>GENDER</th>\n",
       "      <th>DECISION</th>\n",
       "      <th>DEO1</th>\n",
       "      <th>DEO2</th>\n",
       "      <th>DEO3</th>\n",
       "      <th>DEO4</th>\n",
       "      <th>DEO5</th>\n",
       "      <th>DEO6</th>\n",
       "      <th>...</th>\n",
       "      <th>AE</th>\n",
       "      <th>MOUSE1</th>\n",
       "      <th>MOUSE2</th>\n",
       "      <th>MOUSE3</th>\n",
       "      <th>MOUSE</th>\n",
       "      <th>DOUBT</th>\n",
       "      <th>OTHERCHOICE</th>\n",
       "      <th>UNCOMFORTABLE</th>\n",
       "      <th>NOSHOCK</th>\n",
       "      <th>RT</th>\n",
       "    </tr>\n",
       "  </thead>\n",
       "  <tbody>\n",
       "    <tr>\n",
       "      <th>0</th>\n",
       "      <td>1</td>\n",
       "      <td>38</td>\n",
       "      <td>1</td>\n",
       "      <td>NaN</td>\n",
       "      <td>2</td>\n",
       "      <td>2</td>\n",
       "      <td>2</td>\n",
       "      <td>1</td>\n",
       "      <td>2</td>\n",
       "      <td>2</td>\n",
       "      <td>...</td>\n",
       "      <td>5.000000</td>\n",
       "      <td>6.0</td>\n",
       "      <td>5.0</td>\n",
       "      <td>5.0</td>\n",
       "      <td>5.333333</td>\n",
       "      <td>NaN</td>\n",
       "      <td>NaN</td>\n",
       "      <td>NaN</td>\n",
       "      <td>NaN</td>\n",
       "      <td>NaN</td>\n",
       "    </tr>\n",
       "    <tr>\n",
       "      <th>1</th>\n",
       "      <td>1</td>\n",
       "      <td>22</td>\n",
       "      <td>1</td>\n",
       "      <td>NaN</td>\n",
       "      <td>1</td>\n",
       "      <td>2</td>\n",
       "      <td>2</td>\n",
       "      <td>1</td>\n",
       "      <td>2</td>\n",
       "      <td>1</td>\n",
       "      <td>...</td>\n",
       "      <td>5.727273</td>\n",
       "      <td>5.0</td>\n",
       "      <td>6.0</td>\n",
       "      <td>6.0</td>\n",
       "      <td>5.666667</td>\n",
       "      <td>NaN</td>\n",
       "      <td>NaN</td>\n",
       "      <td>NaN</td>\n",
       "      <td>NaN</td>\n",
       "      <td>NaN</td>\n",
       "    </tr>\n",
       "    <tr>\n",
       "      <th>2</th>\n",
       "      <td>1</td>\n",
       "      <td>39</td>\n",
       "      <td>1</td>\n",
       "      <td>NaN</td>\n",
       "      <td>1</td>\n",
       "      <td>1</td>\n",
       "      <td>3</td>\n",
       "      <td>5</td>\n",
       "      <td>3</td>\n",
       "      <td>1</td>\n",
       "      <td>...</td>\n",
       "      <td>5.545455</td>\n",
       "      <td>6.0</td>\n",
       "      <td>6.0</td>\n",
       "      <td>6.0</td>\n",
       "      <td>6.000000</td>\n",
       "      <td>NaN</td>\n",
       "      <td>NaN</td>\n",
       "      <td>NaN</td>\n",
       "      <td>NaN</td>\n",
       "      <td>NaN</td>\n",
       "    </tr>\n",
       "    <tr>\n",
       "      <th>3</th>\n",
       "      <td>1</td>\n",
       "      <td>21</td>\n",
       "      <td>0</td>\n",
       "      <td>1.0</td>\n",
       "      <td>2</td>\n",
       "      <td>3</td>\n",
       "      <td>3</td>\n",
       "      <td>3</td>\n",
       "      <td>3</td>\n",
       "      <td>2</td>\n",
       "      <td>...</td>\n",
       "      <td>5.136364</td>\n",
       "      <td>4.0</td>\n",
       "      <td>7.0</td>\n",
       "      <td>7.0</td>\n",
       "      <td>6.000000</td>\n",
       "      <td>2.0</td>\n",
       "      <td>0.0</td>\n",
       "      <td>6.0</td>\n",
       "      <td>80.0</td>\n",
       "      <td>9.212427</td>\n",
       "    </tr>\n",
       "    <tr>\n",
       "      <th>4</th>\n",
       "      <td>1</td>\n",
       "      <td>20</td>\n",
       "      <td>0</td>\n",
       "      <td>1.0</td>\n",
       "      <td>4</td>\n",
       "      <td>2</td>\n",
       "      <td>2</td>\n",
       "      <td>2</td>\n",
       "      <td>2</td>\n",
       "      <td>2</td>\n",
       "      <td>...</td>\n",
       "      <td>4.181818</td>\n",
       "      <td>4.0</td>\n",
       "      <td>6.0</td>\n",
       "      <td>6.0</td>\n",
       "      <td>5.333333</td>\n",
       "      <td>4.0</td>\n",
       "      <td>0.0</td>\n",
       "      <td>6.5</td>\n",
       "      <td>75.0</td>\n",
       "      <td>17.071711</td>\n",
       "    </tr>\n",
       "  </tbody>\n",
       "</table>\n",
       "<p>5 rows × 132 columns</p>\n",
       "</div>"
      ],
      "text/plain": [
       "   STUDY  AGE  GENDER  DECISION  DEO1  DEO2  DEO3  DEO4  DEO5  DEO6  ...  \\\n",
       "0      1   38       1       NaN     2     2     2     1     2     2  ...   \n",
       "1      1   22       1       NaN     1     2     2     1     2     1  ...   \n",
       "2      1   39       1       NaN     1     1     3     5     3     1  ...   \n",
       "3      1   21       0       1.0     2     3     3     3     3     2  ...   \n",
       "4      1   20       0       1.0     4     2     2     2     2     2  ...   \n",
       "\n",
       "         AE  MOUSE1  MOUSE2  MOUSE3     MOUSE  DOUBT  OTHERCHOICE  \\\n",
       "0  5.000000     6.0     5.0     5.0  5.333333    NaN          NaN   \n",
       "1  5.727273     5.0     6.0     6.0  5.666667    NaN          NaN   \n",
       "2  5.545455     6.0     6.0     6.0  6.000000    NaN          NaN   \n",
       "3  5.136364     4.0     7.0     7.0  6.000000    2.0          0.0   \n",
       "4  4.181818     4.0     6.0     6.0  5.333333    4.0          0.0   \n",
       "\n",
       "   UNCOMFORTABLE  NOSHOCK         RT  \n",
       "0            NaN      NaN        NaN  \n",
       "1            NaN      NaN        NaN  \n",
       "2            NaN      NaN        NaN  \n",
       "3            6.0     80.0   9.212427  \n",
       "4            6.5     75.0  17.071711  \n",
       "\n",
       "[5 rows x 132 columns]"
      ]
     },
     "execution_count": 12,
     "metadata": {},
     "output_type": "execute_result"
    }
   ],
   "source": [
    "df = pd.read_csv(\"mouse.csv\", sep=\"\\t\")\n",
    "df.head()"
   ]
  },
  {
   "cell_type": "markdown",
   "metadata": {},
   "source": [
    "__Отдавайте себе отчёт о предпосылках теста, который вы используете.__\n",
    "\n",
    "\n",
    "__а)__ Попытаемся ответить на тот же вопрос, что и исследователи. В какой из двух ситуаций респонденты чащи принимают решение нажать кнопку: в реальной или на бумаге?"
   ]
  },
  {
   "cell_type": "code",
   "execution_count": null,
   "metadata": {},
   "outputs": [],
   "source": [
    "# решение"
   ]
  },
  {
   "cell_type": "markdown",
   "metadata": {},
   "source": [
    "__б)__ Правда ли, что женщины и мужчины принимают решению о нажатии на кнопку одинаково часто? А на бумаге?"
   ]
  },
  {
   "cell_type": "code",
   "execution_count": null,
   "metadata": {},
   "outputs": [],
   "source": [
    "# решение"
   ]
  },
  {
   "cell_type": "markdown",
   "metadata": {},
   "source": [
    "__в)__ Правда ли, что женщины намного кровожаднее мужчин и жмут на кнопку гораздо быстрее?"
   ]
  },
  {
   "cell_type": "code",
   "execution_count": null,
   "metadata": {},
   "outputs": [],
   "source": [
    "# решение"
   ]
  },
  {
   "cell_type": "markdown",
   "metadata": {},
   "source": [
    "__в)__ Предположим, что дисперсия времени нажатия на кнопку определяется эмоциональностью и романтичностью индивида. Правда ли, что романтичность женщин равна романтичности мужчин? "
   ]
  },
  {
   "cell_type": "code",
   "execution_count": null,
   "metadata": {},
   "outputs": [],
   "source": [
    "# решение"
   ]
  },
  {
   "cell_type": "markdown",
   "metadata": {},
   "source": [
    "\n",
    "<img src=\"https://pp.userapi.com/c852220/v852220032/14dce1/r1zXBIig4B8.jpg\" height=\"300\" width=\"600\"> "
   ]
  },
  {
   "cell_type": "markdown",
   "metadata": {},
   "source": [
    " "
   ]
  }
 ],
 "metadata": {
  "kernelspec": {
   "display_name": "Python 3",
   "language": "python",
   "name": "python3"
  },
  "language_info": {
   "codemirror_mode": {
    "name": "ipython",
    "version": 3
   },
   "file_extension": ".py",
   "mimetype": "text/x-python",
   "name": "python",
   "nbconvert_exporter": "python",
   "pygments_lexer": "ipython3",
   "version": "3.7.6"
  }
 },
 "nbformat": 4,
 "nbformat_minor": 2
}
