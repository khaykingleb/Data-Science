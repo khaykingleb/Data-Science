{
 "cells": [
  {
   "cell_type": "markdown",
   "metadata": {},
   "source": [
    "## Классы\n",
    "Классы в питоне — это способ работать с объектом у которого есть состояние. Как правило, вам необходимо с этим состоянием как-то работать: модифицировать или узнавать что-то. Для этого в классах используются методы: особые функции, которые имеют доступ к содержимому вашего объекта."
   ]
  },
  {
   "cell_type": "markdown",
   "metadata": {},
   "source": [
    "Рассмотрим пример. Предположим, у вас есть сеть отелей. И вам было бы очень удобно работать с отелем как отдельным объектом. Что является состоянием отеля? Для простоты предположим, что только информация о заполненных/свободных номерах. Тогда мы можем описать отель следующим образом:\n",
    "\n",
    "```python\n",
    "class Hotel:\n",
    "    def __init__(self, num_of_rooms):\n",
    "        self.rooms = [0 for _ in range(num_of_rooms)]\n",
    "```\n",
    "\n",
    "При создании объекта `Hotel` ему нужно будет передать количество комнат в этом отеле. Информацию о свободных и занятых комнатах мы будем хранить в массиве длины `num_of_rooms`, где 0 - комната свободна, 1 - комната занята.\n",
    "\n",
    "Какие функции помощники нам нужны? Мы бы наверное хотели уметь занимать комнаты (когда кто-то въезжает) и освобждать. Для этого напишем два метода `occupy` и `realize`.\n",
    "\n",
    "```python\n",
    "class Hotel:\n",
    "    def __init__(self, num_of_rooms):\n",
    "        self.rooms = [0 for _ in range(num_of_rooms)]\n",
    "        \n",
    "    def occupy(self, room_id):\n",
    "        self.rooms[room_id] = 1\n",
    "        \n",
    "    def free(self, room_id):\n",
    "        self.rooms[room_id] = 0\n",
    "```\n",
    "\n",
    "Отлично, теперь мы можем выполнять элементарные действия с нашим классом. Попробуйте создать класс и занять несколько комнат."
   ]
  },
  {
   "cell_type": "code",
   "execution_count": 2,
   "metadata": {},
   "outputs": [],
   "source": [
    "class Hotel:\n",
    "    def __init__(self, num_of_rooms):\n",
    "        self.rooms = [0 for _ in range(num_of_rooms)]\n",
    "        \n",
    "    def occupy(self, room_id):\n",
    "        self.rooms[room_id] = 1\n",
    "        \n",
    "    def free(self, room_id):\n",
    "        self.rooms[room_id] = 0"
   ]
  },
  {
   "cell_type": "code",
   "execution_count": 3,
   "metadata": {},
   "outputs": [],
   "source": [
    "hotel = Hotel(num_of_rooms=10)"
   ]
  },
  {
   "cell_type": "code",
   "execution_count": 4,
   "metadata": {},
   "outputs": [
    {
     "data": {
      "text/plain": [
       "[0, 0, 0, 0, 0, 0, 0, 0, 0, 0]"
      ]
     },
     "execution_count": 4,
     "metadata": {},
     "output_type": "execute_result"
    }
   ],
   "source": [
    "hotel.rooms"
   ]
  },
  {
   "cell_type": "code",
   "execution_count": 5,
   "metadata": {},
   "outputs": [],
   "source": [
    "hotel.occupy(room_id=5)"
   ]
  },
  {
   "cell_type": "code",
   "execution_count": 6,
   "metadata": {},
   "outputs": [
    {
     "data": {
      "text/plain": [
       "[0, 0, 0, 0, 0, 1, 0, 0, 0, 0]"
      ]
     },
     "execution_count": 6,
     "metadata": {},
     "output_type": "execute_result"
    }
   ],
   "source": [
    "hotel.rooms"
   ]
  },
  {
   "cell_type": "code",
   "execution_count": 7,
   "metadata": {},
   "outputs": [],
   "source": [
    "hotel.occupy(room_id=9)"
   ]
  },
  {
   "cell_type": "code",
   "execution_count": 8,
   "metadata": {},
   "outputs": [
    {
     "data": {
      "text/plain": [
       "[0, 0, 0, 0, 0, 1, 0, 0, 0, 1]"
      ]
     },
     "execution_count": 8,
     "metadata": {},
     "output_type": "execute_result"
    }
   ],
   "source": [
    "hotel.rooms"
   ]
  },
  {
   "cell_type": "code",
   "execution_count": 9,
   "metadata": {},
   "outputs": [],
   "source": [
    "hotel.free(room_id=5)"
   ]
  },
  {
   "cell_type": "code",
   "execution_count": 10,
   "metadata": {},
   "outputs": [
    {
     "data": {
      "text/plain": [
       "[0, 0, 0, 0, 0, 0, 0, 0, 0, 1]"
      ]
     },
     "execution_count": 10,
     "metadata": {},
     "output_type": "execute_result"
    }
   ],
   "source": [
    "hotel.rooms"
   ]
  },
  {
   "cell_type": "markdown",
   "metadata": {},
   "source": [
    "Зачем нам нужны классы? Ведь можно было написать функцию\n",
    "```python\n",
    "def occupy(rooms, room_id):\n",
    "    rooms[room_id] = 1\n",
    "    return rooms\n",
    "```\n",
    "\n",
    "Плюс работы с объектами в том, что тем, кто пользуются нашим классом (включая нас самих) не нужно думать о том, как мы реализовали хранение комнат. Если в какой-то момент мы захотим изменить `list` на `dict` (например мы заметили, что так быстрее), никто ничего не заметит. Код пользователей не изменится. Тоже самое касается функциональности - если мы вдруг решили, что нам нужно добавить бронирование на дату, мы можем это сделать и те кто уже пользуются нашим классом - ничего не заметят. У них ничего не сломается. А это очень важно."
   ]
  },
  {
   "cell_type": "markdown",
   "metadata": {},
   "source": [
    "# Задание 1\n",
    "\n",
    "Допишите несколько методов в класс `Hotel`.\n",
    "\n",
    "Напишите метод `occupancy_rate`. Метод должен возвращать долю комнат, которые заняты.\n",
    "\n",
    "Напишите метод `close`. Метод должен освобождать все комнаты. Если `occupancy_rate` написан корректно, то после `close` `occupancy_rate` должен возвращать 0."
   ]
  },
  {
   "cell_type": "code",
   "execution_count": 11,
   "metadata": {},
   "outputs": [],
   "source": [
    "class Hotel:\n",
    "    def __init__(self, num_of_rooms):\n",
    "        self.rooms = [0 for _ in range(num_of_rooms)]\n",
    "        \n",
    "    def occupy(self, room_id):\n",
    "        self.rooms[room_id] = 1\n",
    "        \n",
    "    def free(self, room_id):\n",
    "        self.rooms[room_id] = 0 \n",
    "        \n",
    "    def occupancy_rate(self):\n",
    "        return sum(self.rooms) / len(self.rooms)\n",
    "    \n",
    "    def close(self):\n",
    "        self.rooms = [0 for _ in range(len(self.rooms))]"
   ]
  },
  {
   "cell_type": "markdown",
   "metadata": {},
   "source": [
    "# Задание 2\n",
    "Мы хотим, чтобы пользователь нашего класса не натворил глупостей. Например, не пытался занять уже занятую комнату. Допишите методы `occupy` и `free`. Проверьте внутри них, что состояние комнаты действительно меняется. Иначе вы должны бросить исключение с понятным текстом.\n",
    "\n",
    "Напоминаю, что исключение — это такая конструкция, когда программа завершает работу из некоторой точки. Как правило в случае появления ошибки.\n",
    "Синтаксис\n",
    "```python\n",
    "raise RuntimeError(\"Bad news\")\n",
    "```"
   ]
  },
  {
   "cell_type": "code",
   "execution_count": 12,
   "metadata": {},
   "outputs": [],
   "source": [
    "class Hotel:\n",
    "    def __init__(self, num_of_rooms):\n",
    "        self.rooms = [0 for _ in range(num_of_rooms)]\n",
    "        \n",
    "    def occupy(self, room_id):\n",
    "        if self.rooms[room_id] == 0:\n",
    "            self.rooms[room_id] = 1\n",
    "        else:                    \n",
    "            raise ValueError(f\"Room {room_id } has alredy been occupied.\")\n",
    "        \n",
    "    def free(self, room_id):\n",
    "        if self.rooms[room_id] == 1:\n",
    "            self.rooms[room_id] = 0 \n",
    "        else:\n",
    "            raise ValueError(f\"Room {room_id} is already free.\")\n",
    "        \n",
    "    def occupancy_rate(self):\n",
    "        return sum(self.rooms) / len(self.rooms)\n",
    "    \n",
    "    def close(self):\n",
    "        self.rooms = [0 for _ in range(len(self.rooms))]"
   ]
  },
  {
   "cell_type": "code",
   "execution_count": 13,
   "metadata": {},
   "outputs": [],
   "source": [
    "hotel = Hotel(10)"
   ]
  },
  {
   "cell_type": "code",
   "execution_count": 14,
   "metadata": {},
   "outputs": [],
   "source": [
    "hotel.occupy(5)"
   ]
  },
  {
   "cell_type": "code",
   "execution_count": 15,
   "metadata": {},
   "outputs": [],
   "source": [
    "hotel.occupy(8)"
   ]
  },
  {
   "cell_type": "code",
   "execution_count": 16,
   "metadata": {},
   "outputs": [
    {
     "data": {
      "text/plain": [
       "[0, 0, 0, 0, 0, 1, 0, 0, 1, 0]"
      ]
     },
     "execution_count": 16,
     "metadata": {},
     "output_type": "execute_result"
    }
   ],
   "source": [
    "hotel.rooms"
   ]
  },
  {
   "cell_type": "code",
   "execution_count": 17,
   "metadata": {},
   "outputs": [
    {
     "ename": "ValueError",
     "evalue": "Room 5 has alredy been occupied.",
     "output_type": "error",
     "traceback": [
      "\u001b[0;31m---------------------------------------------------------------------------\u001b[0m",
      "\u001b[0;31mValueError\u001b[0m                                Traceback (most recent call last)",
      "\u001b[0;32m<ipython-input-17-dd9e144edfc8>\u001b[0m in \u001b[0;36m<module>\u001b[0;34m\u001b[0m\n\u001b[0;32m----> 1\u001b[0;31m \u001b[0mhotel\u001b[0m\u001b[0;34m.\u001b[0m\u001b[0moccupy\u001b[0m\u001b[0;34m(\u001b[0m\u001b[0;36m5\u001b[0m\u001b[0;34m)\u001b[0m\u001b[0;34m\u001b[0m\u001b[0;34m\u001b[0m\u001b[0m\n\u001b[0m",
      "\u001b[0;32m<ipython-input-12-5b96e0063dd9>\u001b[0m in \u001b[0;36moccupy\u001b[0;34m(self, room_id)\u001b[0m\n\u001b[1;32m      7\u001b[0m             \u001b[0mself\u001b[0m\u001b[0;34m.\u001b[0m\u001b[0mrooms\u001b[0m\u001b[0;34m[\u001b[0m\u001b[0mroom_id\u001b[0m\u001b[0;34m]\u001b[0m \u001b[0;34m=\u001b[0m \u001b[0;36m1\u001b[0m\u001b[0;34m\u001b[0m\u001b[0;34m\u001b[0m\u001b[0m\n\u001b[1;32m      8\u001b[0m         \u001b[0;32melse\u001b[0m\u001b[0;34m:\u001b[0m\u001b[0;34m\u001b[0m\u001b[0;34m\u001b[0m\u001b[0m\n\u001b[0;32m----> 9\u001b[0;31m             \u001b[0;32mraise\u001b[0m \u001b[0mValueError\u001b[0m\u001b[0;34m(\u001b[0m\u001b[0;34mf\"Room {room_id } has alredy been occupied.\"\u001b[0m\u001b[0;34m)\u001b[0m\u001b[0;34m\u001b[0m\u001b[0;34m\u001b[0m\u001b[0m\n\u001b[0m\u001b[1;32m     10\u001b[0m \u001b[0;34m\u001b[0m\u001b[0m\n\u001b[1;32m     11\u001b[0m     \u001b[0;32mdef\u001b[0m \u001b[0mfree\u001b[0m\u001b[0;34m(\u001b[0m\u001b[0mself\u001b[0m\u001b[0;34m,\u001b[0m \u001b[0mroom_id\u001b[0m\u001b[0;34m)\u001b[0m\u001b[0;34m:\u001b[0m\u001b[0;34m\u001b[0m\u001b[0;34m\u001b[0m\u001b[0m\n",
      "\u001b[0;31mValueError\u001b[0m: Room 5 has alredy been occupied."
     ]
    }
   ],
   "source": [
    "hotel.occupy(5)"
   ]
  },
  {
   "cell_type": "code",
   "execution_count": 18,
   "metadata": {},
   "outputs": [
    {
     "ename": "ValueError",
     "evalue": "Room 1 is already free.",
     "output_type": "error",
     "traceback": [
      "\u001b[0;31m---------------------------------------------------------------------------\u001b[0m",
      "\u001b[0;31mValueError\u001b[0m                                Traceback (most recent call last)",
      "\u001b[0;32m<ipython-input-18-5817d0164171>\u001b[0m in \u001b[0;36m<module>\u001b[0;34m\u001b[0m\n\u001b[0;32m----> 1\u001b[0;31m \u001b[0mhotel\u001b[0m\u001b[0;34m.\u001b[0m\u001b[0mfree\u001b[0m\u001b[0;34m(\u001b[0m\u001b[0;36m1\u001b[0m\u001b[0;34m)\u001b[0m\u001b[0;34m\u001b[0m\u001b[0;34m\u001b[0m\u001b[0m\n\u001b[0m",
      "\u001b[0;32m<ipython-input-12-5b96e0063dd9>\u001b[0m in \u001b[0;36mfree\u001b[0;34m(self, room_id)\u001b[0m\n\u001b[1;32m     13\u001b[0m             \u001b[0mself\u001b[0m\u001b[0;34m.\u001b[0m\u001b[0mrooms\u001b[0m\u001b[0;34m[\u001b[0m\u001b[0mroom_id\u001b[0m\u001b[0;34m]\u001b[0m \u001b[0;34m=\u001b[0m \u001b[0;36m0\u001b[0m\u001b[0;34m\u001b[0m\u001b[0;34m\u001b[0m\u001b[0m\n\u001b[1;32m     14\u001b[0m         \u001b[0;32melse\u001b[0m\u001b[0;34m:\u001b[0m\u001b[0;34m\u001b[0m\u001b[0;34m\u001b[0m\u001b[0m\n\u001b[0;32m---> 15\u001b[0;31m             \u001b[0;32mraise\u001b[0m \u001b[0mValueError\u001b[0m\u001b[0;34m(\u001b[0m\u001b[0;34mf\"Room {room_id} is already free.\"\u001b[0m\u001b[0;34m)\u001b[0m\u001b[0;34m\u001b[0m\u001b[0;34m\u001b[0m\u001b[0m\n\u001b[0m\u001b[1;32m     16\u001b[0m \u001b[0;34m\u001b[0m\u001b[0m\n\u001b[1;32m     17\u001b[0m     \u001b[0;32mdef\u001b[0m \u001b[0moccupancy_rate\u001b[0m\u001b[0;34m(\u001b[0m\u001b[0mself\u001b[0m\u001b[0;34m)\u001b[0m\u001b[0;34m:\u001b[0m\u001b[0;34m\u001b[0m\u001b[0;34m\u001b[0m\u001b[0m\n",
      "\u001b[0;31mValueError\u001b[0m: Room 1 is already free."
     ]
    }
   ],
   "source": [
    "hotel.free(1)"
   ]
  },
  {
   "cell_type": "code",
   "execution_count": null,
   "metadata": {},
   "outputs": [],
   "source": []
  },
  {
   "cell_type": "markdown",
   "metadata": {},
   "source": [
    "# Задание 3\n",
    "Добавьте возможность бронировать номера. Метод назовем `book(self, date, room_id)`. На вход приходит дата и номер комнаты и она становится занята. Если бронь не удалась, бросьте исключение. Перед бронью убедитесь, что комната свободна. Для этого напишите метод `is_booked(self, date, room_id)`. "
   ]
  },
  {
   "cell_type": "code",
   "execution_count": 41,
   "metadata": {},
   "outputs": [],
   "source": [
    "class Hotel:\n",
    "    def __init__(self, num_of_rooms):\n",
    "        self.num_of_rooms = num_of_rooms\n",
    "        self.rooms = {}\n",
    "            \n",
    "    def book(self, date, room_id):\n",
    "        if date not in self.rooms.keys():\n",
    "            self.rooms[date] = [0 for _ in range(self.num_of_rooms)]\n",
    "            self.rooms[date][room_id] = 1\n",
    "        else:\n",
    "            if self.rooms[date][room_id] == 0:\n",
    "                self.rooms[date][room_id] = 1\n",
    "            else:\n",
    "                return f\"Room {room_id} on date {date} has already been booked.\"\n",
    "    \n",
    "    def is_booked(self, date, room_id):\n",
    "        if date in self.rooms.keys():\n",
    "            if self.rooms[date][room_id] == 0:\n",
    "                return f\"Room {room_id} is free on this date.\"\n",
    "            \n",
    "            return f\"Room {room_id} has already been occupied on this date.\"\n",
    "            \n",
    "        return f\"Room {room_id} is not booked on this date.\"\n",
    "    \n",
    "    def occupy(self, date, room_id):\n",
    "        if date in self.rooms.keys():\n",
    "            if self.rooms[room_id] == 0:\n",
    "                self.rooms[room_id] = 1\n",
    "            else:                    \n",
    "                raise ValueError(f\"Room {room_id } has alredy been occupied.\")\n",
    "        else:\n",
    "            self.rooms[date] = [0 for _ in range(self.num_of_rooms)]\n",
    "            self.rooms[date][room_id] = 1\n",
    "            \n",
    "    def free(self, date, room_id):\n",
    "        if date in self.rooms.keys():\n",
    "            if self.rooms[date][room_id] == 1:\n",
    "                self.rooms[date][room_id] = 0 \n",
    "            else:\n",
    "                raise ValueError(f\"Room {room_id} is already free on date {date}.\")\n",
    "        \n",
    "        else:\n",
    "            return f\"There are no rooms occupied on date {date}.\"\n",
    "\n",
    "    def occupancy_rate(self, date):\n",
    "        if date in self.rooms.keys():\n",
    "            return sum(self.rooms[date]) / len(self.rooms[date])\n",
    "            \n",
    "        return f\"There are no rooms occupied on this date.\"\n",
    "    \n",
    "    def close(self, date):\n",
    "        if date in self.rooms.keys():\n",
    "            self.rooms[date] = [0 for _ in range(len(self.rooms))]\n",
    "        else:\n",
    "            raise ValueError(f\"There are no rooms occupied on date {date}.\")\n",
    "   "
   ]
  },
  {
   "cell_type": "code",
   "execution_count": 42,
   "metadata": {},
   "outputs": [],
   "source": [
    "hotel = Hotel(100)"
   ]
  },
  {
   "cell_type": "code",
   "execution_count": 43,
   "metadata": {},
   "outputs": [
    {
     "data": {
      "text/plain": [
       "{}"
      ]
     },
     "execution_count": 43,
     "metadata": {},
     "output_type": "execute_result"
    }
   ],
   "source": [
    "hotel.rooms"
   ]
  },
  {
   "cell_type": "code",
   "execution_count": 44,
   "metadata": {},
   "outputs": [],
   "source": [
    "hotel.book(date='23-02-2020', room_id=23)"
   ]
  },
  {
   "cell_type": "code",
   "execution_count": 46,
   "metadata": {},
   "outputs": [],
   "source": [
    "hotel.book(date='23-02-2021', room_id=23)"
   ]
  },
  {
   "cell_type": "markdown",
   "metadata": {},
   "source": [
    "# Задание 4\n",
    "Мы, как отель, хотим знать свою выручку на какой-то день. Напишите метод `income(self, date)`. Он должен возвращать количество денег, которое заработает отель в этот день. Представим, что стоймость всех комнат одинакова и равна 200$."
   ]
  },
  {
   "cell_type": "code",
   "execution_count": 49,
   "metadata": {},
   "outputs": [],
   "source": [
    "class Hotel:\n",
    "    def __init__(self, num_of_rooms):\n",
    "        self.num_of_rooms = num_of_rooms\n",
    "        self.rooms = {}\n",
    "            \n",
    "    def book(self, date, room_id):\n",
    "        if date not in self.rooms.keys():\n",
    "            self.rooms[date] = [0 for _ in range(self.num_of_rooms)]\n",
    "            self.rooms[date][room_id] = 1\n",
    "        else:\n",
    "            if self.rooms[date][room_id] == 0:\n",
    "                self.rooms[date][room_id] = 1\n",
    "            else:\n",
    "                return f\"Room {room_id} on date {date} has already been booked.\"\n",
    "    \n",
    "    def is_booked(self, date, room_id):\n",
    "        if date in self.rooms.keys():\n",
    "            if self.rooms[date][room_id] == 0:\n",
    "                return f\"Room {room_id} is free on this date.\"\n",
    "            \n",
    "            return f\"Room {room_id} has already been occupied on this date.\"\n",
    "            \n",
    "        return f\"Room {room_id} is not booked on this date.\"\n",
    "    \n",
    "    def occupy(self, date, room_id):\n",
    "        if date in self.rooms.keys():\n",
    "            if self.rooms[room_id] == 0:\n",
    "                self.rooms[room_id] = 1\n",
    "            else:                    \n",
    "                raise ValueError(f\"Room {room_id } has alredy been occupied.\")\n",
    "        else:\n",
    "            self.rooms[date] = [0 for _ in range(self.num_of_rooms)]\n",
    "            self.rooms[date][room_id] = 1\n",
    "            \n",
    "    def free(self, date, room_id):\n",
    "        if date in self.rooms.keys():\n",
    "            if self.rooms[date][room_id] == 1:\n",
    "                self.rooms[date][room_id] = 0 \n",
    "            else:\n",
    "                raise ValueError(f\"Room {room_id} is already free on date {date}.\")\n",
    "        \n",
    "        else:\n",
    "            return f\"There are no rooms occupied on date {date}.\"\n",
    "\n",
    "    def occupancy_rate(self, date):\n",
    "        if date in self.rooms.keys():\n",
    "            return sum(self.rooms[date]) / len(self.rooms[date])\n",
    "            \n",
    "        return f\"There are no rooms occupied on this date.\"\n",
    "    \n",
    "    def close(self, date):\n",
    "        if date in self.rooms.keys():\n",
    "            self.rooms[date] = [0 for _ in range(len(self.rooms))]\n",
    "        else:\n",
    "            raise ValueError(f\"There are no rooms occupied on date {date}.\")\n",
    "            \n",
    "    def income(self, date):\n",
    "        if date in self.rooms.keys():\n",
    "            return 200 * sum(self.rooms[date])\n",
    "        else:\n",
    "            raise ValueError(f\"There are no rooms occupied on date {date}.\")"
   ]
  },
  {
   "cell_type": "code",
   "execution_count": 52,
   "metadata": {},
   "outputs": [],
   "source": [
    "hotel = Hotel(10)"
   ]
  },
  {
   "cell_type": "code",
   "execution_count": 54,
   "metadata": {},
   "outputs": [],
   "source": [
    "hotel.book(date='23-02-2020', room_id=5)"
   ]
  },
  {
   "cell_type": "code",
   "execution_count": 55,
   "metadata": {},
   "outputs": [
    {
     "data": {
      "text/plain": [
       "200"
      ]
     },
     "execution_count": 55,
     "metadata": {},
     "output_type": "execute_result"
    }
   ],
   "source": [
    "hotel.income(date='23-02-2020')"
   ]
  },
  {
   "cell_type": "code",
   "execution_count": 56,
   "metadata": {},
   "outputs": [],
   "source": [
    "hotel.book(date='23-02-2020', room_id=6)"
   ]
  },
  {
   "cell_type": "code",
   "execution_count": 57,
   "metadata": {},
   "outputs": [
    {
     "data": {
      "text/plain": [
       "400"
      ]
     },
     "execution_count": 57,
     "metadata": {},
     "output_type": "execute_result"
    }
   ],
   "source": [
    "hotel.income(date='23-02-2020')"
   ]
  },
  {
   "cell_type": "code",
   "execution_count": 58,
   "metadata": {},
   "outputs": [
    {
     "ename": "ValueError",
     "evalue": "There are no rooms occupied on date 23-02-2021.",
     "output_type": "error",
     "traceback": [
      "\u001b[0;31m---------------------------------------------------------------------------\u001b[0m",
      "\u001b[0;31mValueError\u001b[0m                                Traceback (most recent call last)",
      "\u001b[0;32m<ipython-input-58-29b98e119cc9>\u001b[0m in \u001b[0;36m<module>\u001b[0;34m\u001b[0m\n\u001b[0;32m----> 1\u001b[0;31m \u001b[0mhotel\u001b[0m\u001b[0;34m.\u001b[0m\u001b[0mincome\u001b[0m\u001b[0;34m(\u001b[0m\u001b[0mdate\u001b[0m\u001b[0;34m=\u001b[0m\u001b[0;34m'23-02-2021'\u001b[0m\u001b[0;34m)\u001b[0m\u001b[0;34m\u001b[0m\u001b[0;34m\u001b[0m\u001b[0m\n\u001b[0m",
      "\u001b[0;32m<ipython-input-49-5d03670ff21f>\u001b[0m in \u001b[0;36mincome\u001b[0;34m(self, date)\u001b[0m\n\u001b[1;32m     59\u001b[0m             \u001b[0;32mreturn\u001b[0m \u001b[0;36m200\u001b[0m \u001b[0;34m*\u001b[0m \u001b[0msum\u001b[0m\u001b[0;34m(\u001b[0m\u001b[0mself\u001b[0m\u001b[0;34m.\u001b[0m\u001b[0mrooms\u001b[0m\u001b[0;34m[\u001b[0m\u001b[0mdate\u001b[0m\u001b[0;34m]\u001b[0m\u001b[0;34m)\u001b[0m\u001b[0;34m\u001b[0m\u001b[0;34m\u001b[0m\u001b[0m\n\u001b[1;32m     60\u001b[0m         \u001b[0;32melse\u001b[0m\u001b[0;34m:\u001b[0m\u001b[0;34m\u001b[0m\u001b[0;34m\u001b[0m\u001b[0m\n\u001b[0;32m---> 61\u001b[0;31m             \u001b[0;32mraise\u001b[0m \u001b[0mValueError\u001b[0m\u001b[0;34m(\u001b[0m\u001b[0;34mf\"There are no rooms occupied on date {date}.\"\u001b[0m\u001b[0;34m)\u001b[0m\u001b[0;34m\u001b[0m\u001b[0;34m\u001b[0m\u001b[0m\n\u001b[0m",
      "\u001b[0;31mValueError\u001b[0m: There are no rooms occupied on date 23-02-2021."
     ]
    }
   ],
   "source": [
    "hotel.income(date='23-02-2021')"
   ]
  },
  {
   "cell_type": "code",
   "execution_count": null,
   "metadata": {},
   "outputs": [],
   "source": []
  }
 ],
 "metadata": {
  "kernelspec": {
   "display_name": "Python 3",
   "language": "python",
   "name": "python3"
  },
  "language_info": {
   "codemirror_mode": {
    "name": "ipython",
    "version": 3
   },
   "file_extension": ".py",
   "mimetype": "text/x-python",
   "name": "python",
   "nbconvert_exporter": "python",
   "pygments_lexer": "ipython3",
   "version": "3.7.4"
  }
 },
 "nbformat": 4,
 "nbformat_minor": 2
}
